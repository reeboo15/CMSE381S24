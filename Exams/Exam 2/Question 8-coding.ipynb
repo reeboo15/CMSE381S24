{
 "cells": [
  {
   "cell_type": "code",
   "execution_count": 1,
   "id": "08642140",
   "metadata": {},
   "outputs": [
    {
     "data": {
      "text/plain": [
       "7.320266666666668"
      ]
     },
     "execution_count": 1,
     "metadata": {},
     "output_type": "execute_result"
    }
   ],
   "source": [
    "import numpy as np\n",
    "y= np.array([9.5,11.22,10.06,7.4])\n",
    "x1 =np.array([73,48,35,100])\n",
    "x2 =np.array([120,83,80,97])\n",
    "def compute_RSS(left_set,right_set):\n",
    "    hat_y1 = y[left_set].mean()\n",
    "    hat_y2 = y[right_set].mean()\n",
    "    RSS = ((y[left_set]-hat_y1)**2).sum()+((y[right_set]-hat_y2)**2).sum()\n",
    "    return RSS\n",
    "compute_RSS([2],[0,1,3])"
   ]
  },
  {
   "cell_type": "code",
   "execution_count": 2,
   "id": "9de83104",
   "metadata": {},
   "outputs": [
    {
     "data": {
      "text/plain": [
       "2.8777999999999992"
      ]
     },
     "execution_count": 2,
     "metadata": {},
     "output_type": "execute_result"
    }
   ],
   "source": [
    "compute_RSS([1,2],[0,3])"
   ]
  },
  {
   "cell_type": "code",
   "execution_count": 3,
   "id": "b971f9f7",
   "metadata": {},
   "outputs": [
    {
     "data": {
      "text/plain": [
       "1.5392000000000012"
      ]
     },
     "execution_count": 3,
     "metadata": {},
     "output_type": "execute_result"
    }
   ],
   "source": [
    "compute_RSS([0,1,2],[3])"
   ]
  },
  {
   "cell_type": "code",
   "execution_count": 4,
   "id": "5b63a267",
   "metadata": {},
   "outputs": [
    {
     "data": {
      "text/plain": [
       "7.671200000000001"
      ]
     },
     "execution_count": 4,
     "metadata": {},
     "output_type": "execute_result"
    }
   ],
   "source": [
    "compute_RSS([3,1,2],[0])"
   ]
  },
  {
   "cell_type": "code",
   "execution_count": 5,
   "id": "668f486e",
   "metadata": {},
   "outputs": [],
   "source": [
    "def compute_RSS(set1,set2,set3):\n",
    "    hat_y1 = y[set1].mean()\n",
    "    hat_y2 = y[set2].mean()\n",
    "    hat_y3 = y[set3].mean()\n",
    "    RSS = ((y[set1]-hat_y1)**2).sum()+((y[set2]-hat_y2)**2).sum()+((y[set3]-hat_y3)**2).sum()\n",
    "    return RSS"
   ]
  },
  {
   "cell_type": "code",
   "execution_count": 6,
   "id": "8f6d5c6c",
   "metadata": {},
   "outputs": [
    {
     "data": {
      "text/plain": [
       "1.479200000000001"
      ]
     },
     "execution_count": 6,
     "metadata": {},
     "output_type": "execute_result"
    }
   ],
   "source": [
    "compute_RSS([2],[0,1],[3])"
   ]
  },
  {
   "cell_type": "code",
   "execution_count": 7,
   "id": "6021c143",
   "metadata": {},
   "outputs": [
    {
     "data": {
      "text/plain": [
       "0.6728000000000002"
      ]
     },
     "execution_count": 7,
     "metadata": {},
     "output_type": "execute_result"
    }
   ],
   "source": [
    "compute_RSS([1,2],[0],[3])"
   ]
  },
  {
   "cell_type": "code",
   "execution_count": null,
   "id": "6b3fcfca",
   "metadata": {},
   "outputs": [],
   "source": []
  }
 ],
 "metadata": {
  "kernelspec": {
   "display_name": "Python 3",
   "language": "python",
   "name": "python3"
  },
  "language_info": {
   "codemirror_mode": {
    "name": "ipython",
    "version": 3
   },
   "file_extension": ".py",
   "mimetype": "text/x-python",
   "name": "python",
   "nbconvert_exporter": "python",
   "pygments_lexer": "ipython3",
   "version": "3.8.8"
  }
 },
 "nbformat": 4,
 "nbformat_minor": 5
}
