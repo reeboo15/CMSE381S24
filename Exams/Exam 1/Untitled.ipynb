{
 "cells": [
  {
   "cell_type": "code",
   "execution_count": 2,
   "id": "fb884eae-cf24-4d44-9a8e-0ab038e64421",
   "metadata": {},
   "outputs": [],
   "source": [
    "import numpy as np\n",
    "import pandas as pd\n",
    "import matplotlib.pyplot as plt \n",
    "%matplotlib inline\n",
    "import seaborn as sns\n"
   ]
  },
  {
   "cell_type": "code",
   "execution_count": 16,
   "id": "786c8322-69f3-4b14-95c3-a732146d892b",
   "metadata": {},
   "outputs": [
    {
     "data": {
      "text/html": [
       "<div>\n",
       "<style scoped>\n",
       "    .dataframe tbody tr th:only-of-type {\n",
       "        vertical-align: middle;\n",
       "    }\n",
       "\n",
       "    .dataframe tbody tr th {\n",
       "        vertical-align: top;\n",
       "    }\n",
       "\n",
       "    .dataframe thead th {\n",
       "        text-align: right;\n",
       "    }\n",
       "</style>\n",
       "<table border=\"1\" class=\"dataframe\">\n",
       "  <thead>\n",
       "    <tr style=\"text-align: right;\">\n",
       "      <th></th>\n",
       "      <th>Movie</th>\n",
       "      <th>OPR</th>\n",
       "      <th>genre</th>\n",
       "      <th>profitability</th>\n",
       "    </tr>\n",
       "  </thead>\n",
       "  <tbody>\n",
       "    <tr>\n",
       "      <th>0</th>\n",
       "      <td>Movie-1</td>\n",
       "      <td>100</td>\n",
       "      <td>1</td>\n",
       "      <td>1</td>\n",
       "    </tr>\n",
       "    <tr>\n",
       "      <th>1</th>\n",
       "      <td>Movie-2</td>\n",
       "      <td>200</td>\n",
       "      <td>0</td>\n",
       "      <td>0</td>\n",
       "    </tr>\n",
       "    <tr>\n",
       "      <th>2</th>\n",
       "      <td>Movie-3</td>\n",
       "      <td>400</td>\n",
       "      <td>1</td>\n",
       "      <td>1</td>\n",
       "    </tr>\n",
       "  </tbody>\n",
       "</table>\n",
       "</div>"
      ],
      "text/plain": [
       "     Movie  OPR  genre  profitability\n",
       "0  Movie-1  100      1              1\n",
       "1  Movie-2  200      0              0\n",
       "2  Movie-3  400      1              1"
      ]
     },
     "execution_count": 16,
     "metadata": {},
     "output_type": "execute_result"
    }
   ],
   "source": [
    "from sklearn.linear_model import LogisticRegression\n",
    "data = [['Movie-1', 100, 1, 1], ['Movie-2', 200, 0, 0], ['Movie-3', 400, 1, 1]]\n",
    "df = pd.DataFrame(data, columns = ['Movie', 'OPR', 'genre', 'profitability'])\n",
    "df"
   ]
  },
  {
   "cell_type": "code",
   "execution_count": 17,
   "id": "61dc0919-9d21-462f-97ae-60dd81bc043a",
   "metadata": {},
   "outputs": [
    {
     "data": {
      "text/plain": [
       "array([1, 1, 1], dtype=int64)"
      ]
     },
     "execution_count": 17,
     "metadata": {},
     "output_type": "execute_result"
    }
   ],
   "source": [
    "y = df.iloc[0:3, 3]\n",
    "x = df.iloc[0:3, 1:3]\n",
    "clf = LogisticRegression(random_state=0).fit(x, y)\n",
    "clf.predict(x)\n",
    "\n",
    "# X, y = load_iris(return_X_y=True)\n",
    "# >>> clf = LogisticRegression(random_state=0).fit(X, y)\n",
    "# >>> clf.predict(X[:2, :])"
   ]
  },
  {
   "cell_type": "code",
   "execution_count": 18,
   "id": "a91bc289-20fb-481e-af11-5a53916a4774",
   "metadata": {},
   "outputs": [
    {
     "data": {
      "text/plain": [
       "(array([[0.00318907, 0.56451971]]), array([-0.37829138]))"
      ]
     },
     "execution_count": 18,
     "metadata": {},
     "output_type": "execute_result"
    }
   ],
   "source": [
    "clf.fit(x,y).coef_, clf.fit(x,y).intercept_"
   ]
  },
  {
   "cell_type": "code",
   "execution_count": 21,
   "id": "0908eae8-6a36-42ec-a555-27fda02ecd83",
   "metadata": {},
   "outputs": [
    {
     "data": {
      "text/plain": [
       "1.14294933"
      ]
     },
     "execution_count": 21,
     "metadata": {},
     "output_type": "execute_result"
    }
   ],
   "source": [
    "-0.37829138 + 0.56451971*1 + 0.00318907*300"
   ]
  },
  {
   "cell_type": "code",
   "execution_count": 23,
   "id": "635e6766-df2f-4849-b4b5-398b317ac75d",
   "metadata": {},
   "outputs": [
    {
     "data": {
      "text/plain": [
       "0.0625"
      ]
     },
     "execution_count": 23,
     "metadata": {},
     "output_type": "execute_result"
    }
   ],
   "source": [
    "p_a = 0.5\n",
    "p_b = 0.4\n",
    "p_c = 0.1\n",
    "p_sat_a = 1250\n",
    "p_sat_b = 1050\n",
    "p_sat_c = 800\n",
    "sd = 200\n",
    "\n",
    "(50/400)*0.5"
   ]
  },
  {
   "cell_type": "code",
   "execution_count": null,
   "id": "61aa2c03-ba3d-4074-9f50-3506dede96ae",
   "metadata": {},
   "outputs": [],
   "source": []
  }
 ],
 "metadata": {
  "kernelspec": {
   "display_name": "Python 3",
   "language": "python",
   "name": "python3"
  },
  "language_info": {
   "codemirror_mode": {
    "name": "ipython",
    "version": 3
   },
   "file_extension": ".py",
   "mimetype": "text/x-python",
   "name": "python",
   "nbconvert_exporter": "python",
   "pygments_lexer": "ipython3",
   "version": "3.8.8"
  }
 },
 "nbformat": 4,
 "nbformat_minor": 5
}
