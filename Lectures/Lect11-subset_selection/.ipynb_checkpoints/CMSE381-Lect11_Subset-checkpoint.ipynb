{
 "cells": [
  {
   "cell_type": "markdown",
   "id": "4dfd68f5",
   "metadata": {},
   "source": [
    "# Subset Selection\n",
    "## CMSE 381 - Spring 2024\n",
    "\n",
    "\n"
   ]
  },
  {
   "cell_type": "code",
   "execution_count": 1,
   "id": "4ea3a4b4",
   "metadata": {},
   "outputs": [],
   "source": [
    "# Everyone's favorite standard imports\n",
    "import numpy as np\n",
    "import pandas as pd\n",
    "import matplotlib.pyplot as plt\n",
    "import seaborn as sns\n",
    "%matplotlib inline\n",
    "\n",
    "from sklearn.linear_model import LinearRegression,LogisticRegression\n",
    "from sklearn.metrics import mean_squared_error\n",
    "from sklearn.model_selection import cross_val_score\n",
    "from sklearn.model_selection import KFold"
   ]
  },
  {
   "cell_type": "code",
   "execution_count": 2,
   "id": "98db390a",
   "metadata": {},
   "outputs": [
    {
     "data": {
      "text/html": [
       "<div>\n",
       "<style scoped>\n",
       "    .dataframe tbody tr th:only-of-type {\n",
       "        vertical-align: middle;\n",
       "    }\n",
       "\n",
       "    .dataframe tbody tr th {\n",
       "        vertical-align: top;\n",
       "    }\n",
       "\n",
       "    .dataframe thead th {\n",
       "        text-align: right;\n",
       "    }\n",
       "</style>\n",
       "<table border=\"1\" class=\"dataframe\">\n",
       "  <thead>\n",
       "    <tr style=\"text-align: right;\">\n",
       "      <th></th>\n",
       "      <th>mpg</th>\n",
       "      <th>cylinders</th>\n",
       "      <th>displacement</th>\n",
       "      <th>horsepower</th>\n",
       "      <th>weight</th>\n",
       "      <th>acceleration</th>\n",
       "      <th>year</th>\n",
       "      <th>origin</th>\n",
       "      <th>name</th>\n",
       "    </tr>\n",
       "  </thead>\n",
       "  <tbody>\n",
       "    <tr>\n",
       "      <th>0</th>\n",
       "      <td>16.0</td>\n",
       "      <td>8</td>\n",
       "      <td>318.0</td>\n",
       "      <td>150</td>\n",
       "      <td>4498</td>\n",
       "      <td>14.5</td>\n",
       "      <td>75</td>\n",
       "      <td>1</td>\n",
       "      <td>plymouth grand fury</td>\n",
       "    </tr>\n",
       "    <tr>\n",
       "      <th>1</th>\n",
       "      <td>18.2</td>\n",
       "      <td>8</td>\n",
       "      <td>318.0</td>\n",
       "      <td>135</td>\n",
       "      <td>3830</td>\n",
       "      <td>15.2</td>\n",
       "      <td>79</td>\n",
       "      <td>1</td>\n",
       "      <td>dodge st. regis</td>\n",
       "    </tr>\n",
       "    <tr>\n",
       "      <th>2</th>\n",
       "      <td>23.7</td>\n",
       "      <td>3</td>\n",
       "      <td>70.0</td>\n",
       "      <td>100</td>\n",
       "      <td>2420</td>\n",
       "      <td>12.5</td>\n",
       "      <td>80</td>\n",
       "      <td>3</td>\n",
       "      <td>mazda rx-7 gs</td>\n",
       "    </tr>\n",
       "    <tr>\n",
       "      <th>3</th>\n",
       "      <td>24.0</td>\n",
       "      <td>4</td>\n",
       "      <td>113.0</td>\n",
       "      <td>95</td>\n",
       "      <td>2278</td>\n",
       "      <td>15.5</td>\n",
       "      <td>72</td>\n",
       "      <td>3</td>\n",
       "      <td>toyota corona hardtop</td>\n",
       "    </tr>\n",
       "    <tr>\n",
       "      <th>4</th>\n",
       "      <td>29.0</td>\n",
       "      <td>4</td>\n",
       "      <td>90.0</td>\n",
       "      <td>70</td>\n",
       "      <td>1937</td>\n",
       "      <td>14.2</td>\n",
       "      <td>76</td>\n",
       "      <td>2</td>\n",
       "      <td>vw rabbit</td>\n",
       "    </tr>\n",
       "  </tbody>\n",
       "</table>\n",
       "</div>"
      ],
      "text/plain": [
       "    mpg  cylinders  displacement  horsepower  weight  acceleration  year  \\\n",
       "0  16.0          8         318.0         150    4498          14.5    75   \n",
       "1  18.2          8         318.0         135    3830          15.2    79   \n",
       "2  23.7          3          70.0         100    2420          12.5    80   \n",
       "3  24.0          4         113.0          95    2278          15.5    72   \n",
       "4  29.0          4          90.0          70    1937          14.2    76   \n",
       "\n",
       "   origin                   name  \n",
       "0       1    plymouth grand fury  \n",
       "1       1        dodge st. regis  \n",
       "2       3          mazda rx-7 gs  \n",
       "3       3  toyota corona hardtop  \n",
       "4       2              vw rabbit  "
      ]
     },
     "execution_count": 2,
     "metadata": {},
     "output_type": "execute_result"
    }
   ],
   "source": [
    "# First, we're going to do all the data loading we've had for a while for this data set\n",
    "auto = pd.read_csv('../../DataSets/Auto.csv')\n",
    "auto = auto.replace('?', np.nan)\n",
    "auto = auto.dropna()\n",
    "auto.horsepower = auto.horsepower.astype('int')\n",
    "\n",
    "#this shuffles my data set in advance so that i don't need to worry about it later \n",
    "auto = auto.sample(frac=1).reset_index(drop=True)\n",
    "\n",
    "\n",
    "auto.head()\n"
   ]
  },
  {
   "cell_type": "markdown",
   "id": "32b8a2d2",
   "metadata": {},
   "source": [
    "Let's try to run subset selection on the `auto` data set! We're going to use `cylinders`, `horsepower`, `weight`, and `acceleration` to predict `mpg`. "
   ]
  },
  {
   "cell_type": "code",
   "execution_count": 19,
   "id": "158938b5",
   "metadata": {},
   "outputs": [],
   "source": [
    "inputvars = ['cylinders','horsepower','weight', 'acceleration']"
   ]
  },
  {
   "cell_type": "markdown",
   "id": "6928bb0c",
   "metadata": {},
   "source": [
    "The first tool we are going to use is the `itertools` package, which gives us a way to get subsets of whatever size we want using the `combinations` command.  "
   ]
  },
  {
   "cell_type": "code",
   "execution_count": 4,
   "id": "d502051a",
   "metadata": {},
   "outputs": [],
   "source": [
    "from itertools import combinations"
   ]
  },
  {
   "cell_type": "markdown",
   "id": "58a6c673",
   "metadata": {},
   "source": [
    "The weird thing is it's an iterator, so if I just try to print out what I want, it's not helpful to me. "
   ]
  },
  {
   "cell_type": "code",
   "execution_count": 5,
   "id": "5f89e5f9",
   "metadata": {},
   "outputs": [
    {
     "data": {
      "text/plain": [
       "<itertools.combinations at 0x28805c4ab30>"
      ]
     },
     "execution_count": 5,
     "metadata": {},
     "output_type": "execute_result"
    }
   ],
   "source": [
    "combinations(inputvars,2)"
   ]
  },
  {
   "cell_type": "markdown",
   "id": "85077bb8",
   "metadata": {},
   "source": [
    "But if I use it in a for loop it does what I want!"
   ]
  },
  {
   "cell_type": "code",
   "execution_count": 6,
   "id": "5194fd8e",
   "metadata": {},
   "outputs": [
    {
     "name": "stdout",
     "output_type": "stream",
     "text": [
      "('cylinders', 'horsepower')\n",
      "('cylinders', 'weight')\n",
      "('cylinders', 'acceleration')\n",
      "('horsepower', 'weight')\n",
      "('horsepower', 'acceleration')\n",
      "('weight', 'acceleration')\n"
     ]
    }
   ],
   "source": [
    "for x in combinations(inputvars,2):\n",
    "    print(x)"
   ]
  },
  {
   "cell_type": "markdown",
   "id": "ee6d2e20",
   "metadata": {},
   "source": [
    "Here's some code stolen from the last few days to run linear regression on a subset of the input variables. "
   ]
  },
  {
   "cell_type": "code",
   "execution_count": 7,
   "id": "4ea13b1d",
   "metadata": {},
   "outputs": [
    {
     "data": {
      "text/plain": [
       "23.942446650601344"
      ]
     },
     "execution_count": 7,
     "metadata": {},
     "output_type": "execute_result"
    }
   ],
   "source": [
    "def myscore_train(df,listofvars, outputvar = 'mpg'):\n",
    "    X = df[list(listofvars)]\n",
    "    y = df[outputvar]\n",
    "    \n",
    "    #build linear regression model\n",
    "    model = LinearRegression()\n",
    "    model.fit(X,y)\n",
    "    \n",
    "    testscore = mean_squared_error(y, model.predict(X))\n",
    "    \n",
    "    #view mean absolute error\n",
    "    return testscore\n",
    "    \n",
    "myvars = ('cylinders', 'acceleration')\n",
    "myscore_train(auto,myvars)"
   ]
  },
  {
   "cell_type": "code",
   "execution_count": 8,
   "id": "ad735fd8",
   "metadata": {},
   "outputs": [
    {
     "data": {
      "text/plain": [
       "24.383404336196282"
      ]
     },
     "execution_count": 8,
     "metadata": {},
     "output_type": "execute_result"
    }
   ],
   "source": [
    "def myscore_cv(df,listofvars, outputvar = 'mpg'):\n",
    "    X = df[list(listofvars)]\n",
    "    y = df[outputvar]\n",
    "    \n",
    "    #build linear regression model\n",
    "    model = LinearRegression()\n",
    "    \n",
    "\n",
    "    #use 5-fold CV to evaluate model\n",
    "    scores = cross_val_score(model, X,y, \n",
    "                             scoring='neg_mean_squared_error',\n",
    "                             cv=5)\n",
    "\n",
    "    #view mean absolute error\n",
    "    return np.average(np.absolute(scores))\n",
    "    \n",
    "\n",
    "myvars = ('cylinders', 'acceleration')\n",
    "myscore_cv(auto,myvars)"
   ]
  },
  {
   "cell_type": "markdown",
   "id": "e2dd18fc",
   "metadata": {},
   "source": [
    "\n",
    "&#9989; **<font color=red>Do this:</font>** Modify the code below as follows: \n",
    "- Set up two nested for loops to get every size $p = \\{1,\\cdots,4\\}$ subset of my list of variables I want to use\n",
    "- For each of these subsets, use the `myscore` function to get the training RSS.\n",
    "- Append it into a data frame as shown\n"
   ]
  },
  {
   "cell_type": "code",
   "execution_count": 25,
   "id": "e7ee558c-5b50-4e32-ae1c-395546a63427",
   "metadata": {},
   "outputs": [
    {
     "data": {
      "text/plain": [
       "17.76139996926686"
      ]
     },
     "execution_count": 25,
     "metadata": {},
     "output_type": "execute_result"
    }
   ],
   "source": [
    "myscore_train(auto,inputvars, outputvar = 'mpg')"
   ]
  },
  {
   "cell_type": "code",
   "execution_count": 64,
   "id": "6d957dcf",
   "metadata": {},
   "outputs": [
    {
     "data": {
      "text/html": [
       "<div>\n",
       "<style scoped>\n",
       "    .dataframe tbody tr th:only-of-type {\n",
       "        vertical-align: middle;\n",
       "    }\n",
       "\n",
       "    .dataframe tbody tr th {\n",
       "        vertical-align: top;\n",
       "    }\n",
       "\n",
       "    .dataframe thead th {\n",
       "        text-align: right;\n",
       "    }\n",
       "</style>\n",
       "<table border=\"1\" class=\"dataframe\">\n",
       "  <thead>\n",
       "    <tr style=\"text-align: right;\">\n",
       "      <th></th>\n",
       "      <th>Vars</th>\n",
       "      <th>Score</th>\n",
       "    </tr>\n",
       "  </thead>\n",
       "  <tbody>\n",
       "    <tr>\n",
       "      <th>0</th>\n",
       "      <td>(cylinders,)</td>\n",
       "      <td>24.020180</td>\n",
       "    </tr>\n",
       "    <tr>\n",
       "      <th>1</th>\n",
       "      <td>(horsepower,)</td>\n",
       "      <td>23.943663</td>\n",
       "    </tr>\n",
       "    <tr>\n",
       "      <th>2</th>\n",
       "      <td>(weight,)</td>\n",
       "      <td>18.676617</td>\n",
       "    </tr>\n",
       "    <tr>\n",
       "      <th>3</th>\n",
       "      <td>(acceleration,)</td>\n",
       "      <td>49.873627</td>\n",
       "    </tr>\n",
       "    <tr>\n",
       "      <th>4</th>\n",
       "      <td>(cylinders, horsepower)</td>\n",
       "      <td>20.848190</td>\n",
       "    </tr>\n",
       "    <tr>\n",
       "      <th>5</th>\n",
       "      <td>(cylinders, weight)</td>\n",
       "      <td>18.382946</td>\n",
       "    </tr>\n",
       "    <tr>\n",
       "      <th>6</th>\n",
       "      <td>(cylinders, acceleration)</td>\n",
       "      <td>23.942447</td>\n",
       "    </tr>\n",
       "    <tr>\n",
       "      <th>7</th>\n",
       "      <td>(horsepower, weight)</td>\n",
       "      <td>17.841442</td>\n",
       "    </tr>\n",
       "    <tr>\n",
       "      <th>8</th>\n",
       "      <td>(horsepower, acceleration)</td>\n",
       "      <td>22.461644</td>\n",
       "    </tr>\n",
       "    <tr>\n",
       "      <th>9</th>\n",
       "      <td>(weight, acceleration)</td>\n",
       "      <td>18.247176</td>\n",
       "    </tr>\n",
       "    <tr>\n",
       "      <th>10</th>\n",
       "      <td>(cylinders, horsepower, weight)</td>\n",
       "      <td>17.763871</td>\n",
       "    </tr>\n",
       "    <tr>\n",
       "      <th>11</th>\n",
       "      <td>(cylinders, horsepower, acceleration)</td>\n",
       "      <td>20.055715</td>\n",
       "    </tr>\n",
       "    <tr>\n",
       "      <th>12</th>\n",
       "      <td>(cylinders, weight, acceleration)</td>\n",
       "      <td>18.126486</td>\n",
       "    </tr>\n",
       "    <tr>\n",
       "      <th>13</th>\n",
       "      <td>(horsepower, weight, acceleration)</td>\n",
       "      <td>17.841430</td>\n",
       "    </tr>\n",
       "    <tr>\n",
       "      <th>14</th>\n",
       "      <td>(cylinders, horsepower, weight, acceleration)</td>\n",
       "      <td>17.761400</td>\n",
       "    </tr>\n",
       "  </tbody>\n",
       "</table>\n",
       "</div>"
      ],
      "text/plain": [
       "                                             Vars      Score\n",
       "0                                    (cylinders,)  24.020180\n",
       "1                                   (horsepower,)  23.943663\n",
       "2                                       (weight,)  18.676617\n",
       "3                                 (acceleration,)  49.873627\n",
       "4                         (cylinders, horsepower)  20.848190\n",
       "5                             (cylinders, weight)  18.382946\n",
       "6                       (cylinders, acceleration)  23.942447\n",
       "7                            (horsepower, weight)  17.841442\n",
       "8                      (horsepower, acceleration)  22.461644\n",
       "9                          (weight, acceleration)  18.247176\n",
       "10                (cylinders, horsepower, weight)  17.763871\n",
       "11          (cylinders, horsepower, acceleration)  20.055715\n",
       "12              (cylinders, weight, acceleration)  18.126486\n",
       "13             (horsepower, weight, acceleration)  17.841430\n",
       "14  (cylinders, horsepower, weight, acceleration)  17.761400"
      ]
     },
     "execution_count": 64,
     "metadata": {},
     "output_type": "execute_result"
    }
   ],
   "source": [
    "myvars = []\n",
    "myscores = []\n",
    "\n",
    "for i in range(1,5):\n",
    "    for x in combinations(inputvars, i):\n",
    "        curr_vars = x\n",
    "        myvars.append(curr_vars)\n",
    "        curr_score = myscore_train(auto,curr_vars, outputvar = 'mpg')\n",
    "        myscores.append(curr_score)   \n",
    "\n",
    "\n",
    "\n",
    "#-----\n",
    "# your loop goes in here\n",
    "#-----\n",
    "        \n",
    "myResults = pd.DataFrame({'Vars':myvars, 'Score':myscores})\n",
    "myResults"
   ]
  },
  {
   "cell_type": "markdown",
   "id": "095a3968",
   "metadata": {},
   "source": [
    "We got all our main subsets, we're just missing a null model. This is the model that predicts the sample mean `mpg` for any input data. \n",
    "\n",
    "&#9989; **<font color=red>Do this:</font>** What is the MSE on our data set if we just predict the mean for every data point? Add this entry to your `myResults` data frame\n",
    "\n",
    "*Hint: you can get a numpy array with every entry being the same output by using the `np.full` command.*"
   ]
  },
  {
   "cell_type": "code",
   "execution_count": 65,
   "id": "f63e436d",
   "metadata": {},
   "outputs": [],
   "source": [
    "## Your code here ##\n",
    "def myscore_avgtrain(df,listofvars, outputvar = 'mpg'):\n",
    "    if listofvars == []:\n",
    "        y = []\n",
    "        mean_mpg = df['mpg'].mean()\n",
    "        squared_errors = (df['mpg'] - mean_mpg) ** 2\n",
    "        testscore = squared_errors.mean()\n",
    "        \n",
    "    else:\n",
    "        X = df[list(listofvars)]\n",
    "        y = df[outputvar]\n",
    "\n",
    "        #build linear regression model\n",
    "        model = LinearRegression()\n",
    "        model.fit(X,y)\n",
    "        testscore = mean_squared_error(y, model.predict(X))\n",
    "    \n",
    "    #view mean absolute error\n",
    "    return testscore\n",
    "    \n",
    "myscore = myscore_avgtrain(auto,[])\n",
    " "
   ]
  },
  {
   "cell_type": "code",
   "execution_count": 66,
   "id": "346d337b",
   "metadata": {},
   "outputs": [
    {
     "data": {
      "text/html": [
       "<div>\n",
       "<style scoped>\n",
       "    .dataframe tbody tr th:only-of-type {\n",
       "        vertical-align: middle;\n",
       "    }\n",
       "\n",
       "    .dataframe tbody tr th {\n",
       "        vertical-align: top;\n",
       "    }\n",
       "\n",
       "    .dataframe thead th {\n",
       "        text-align: right;\n",
       "    }\n",
       "</style>\n",
       "<table border=\"1\" class=\"dataframe\">\n",
       "  <thead>\n",
       "    <tr style=\"text-align: right;\">\n",
       "      <th></th>\n",
       "      <th>Vars</th>\n",
       "      <th>Score</th>\n",
       "    </tr>\n",
       "  </thead>\n",
       "  <tbody>\n",
       "    <tr>\n",
       "      <th>0</th>\n",
       "      <td>empty</td>\n",
       "      <td>60.762738</td>\n",
       "    </tr>\n",
       "    <tr>\n",
       "      <th>1</th>\n",
       "      <td>(cylinders,)</td>\n",
       "      <td>24.020180</td>\n",
       "    </tr>\n",
       "    <tr>\n",
       "      <th>2</th>\n",
       "      <td>(horsepower,)</td>\n",
       "      <td>23.943663</td>\n",
       "    </tr>\n",
       "    <tr>\n",
       "      <th>3</th>\n",
       "      <td>(weight,)</td>\n",
       "      <td>18.676617</td>\n",
       "    </tr>\n",
       "    <tr>\n",
       "      <th>4</th>\n",
       "      <td>(acceleration,)</td>\n",
       "      <td>49.873627</td>\n",
       "    </tr>\n",
       "    <tr>\n",
       "      <th>5</th>\n",
       "      <td>(cylinders, horsepower)</td>\n",
       "      <td>20.848190</td>\n",
       "    </tr>\n",
       "    <tr>\n",
       "      <th>6</th>\n",
       "      <td>(cylinders, weight)</td>\n",
       "      <td>18.382946</td>\n",
       "    </tr>\n",
       "    <tr>\n",
       "      <th>7</th>\n",
       "      <td>(cylinders, acceleration)</td>\n",
       "      <td>23.942447</td>\n",
       "    </tr>\n",
       "    <tr>\n",
       "      <th>8</th>\n",
       "      <td>(horsepower, weight)</td>\n",
       "      <td>17.841442</td>\n",
       "    </tr>\n",
       "    <tr>\n",
       "      <th>9</th>\n",
       "      <td>(horsepower, acceleration)</td>\n",
       "      <td>22.461644</td>\n",
       "    </tr>\n",
       "    <tr>\n",
       "      <th>10</th>\n",
       "      <td>(weight, acceleration)</td>\n",
       "      <td>18.247176</td>\n",
       "    </tr>\n",
       "    <tr>\n",
       "      <th>11</th>\n",
       "      <td>(cylinders, horsepower, weight)</td>\n",
       "      <td>17.763871</td>\n",
       "    </tr>\n",
       "    <tr>\n",
       "      <th>12</th>\n",
       "      <td>(cylinders, horsepower, acceleration)</td>\n",
       "      <td>20.055715</td>\n",
       "    </tr>\n",
       "    <tr>\n",
       "      <th>13</th>\n",
       "      <td>(cylinders, weight, acceleration)</td>\n",
       "      <td>18.126486</td>\n",
       "    </tr>\n",
       "    <tr>\n",
       "      <th>14</th>\n",
       "      <td>(horsepower, weight, acceleration)</td>\n",
       "      <td>17.841430</td>\n",
       "    </tr>\n",
       "    <tr>\n",
       "      <th>15</th>\n",
       "      <td>(cylinders, horsepower, weight, acceleration)</td>\n",
       "      <td>17.761400</td>\n",
       "    </tr>\n",
       "  </tbody>\n",
       "</table>\n",
       "</div>"
      ],
      "text/plain": [
       "                                             Vars      Score\n",
       "0                                           empty  60.762738\n",
       "1                                    (cylinders,)  24.020180\n",
       "2                                   (horsepower,)  23.943663\n",
       "3                                       (weight,)  18.676617\n",
       "4                                 (acceleration,)  49.873627\n",
       "5                         (cylinders, horsepower)  20.848190\n",
       "6                             (cylinders, weight)  18.382946\n",
       "7                       (cylinders, acceleration)  23.942447\n",
       "8                            (horsepower, weight)  17.841442\n",
       "9                      (horsepower, acceleration)  22.461644\n",
       "10                         (weight, acceleration)  18.247176\n",
       "11                (cylinders, horsepower, weight)  17.763871\n",
       "12          (cylinders, horsepower, acceleration)  20.055715\n",
       "13              (cylinders, weight, acceleration)  18.126486\n",
       "14             (horsepower, weight, acceleration)  17.841430\n",
       "15  (cylinders, horsepower, weight, acceleration)  17.761400"
      ]
     },
     "execution_count": 66,
     "metadata": {},
     "output_type": "execute_result"
    }
   ],
   "source": [
    "newresult = pd.DataFrame({'Vars':['empty'], 'Score':[myscore]})\n",
    "\n",
    "myResults = pd.concat([newresult,myResults],ignore_index = True)\n",
    "\n",
    "# If you print it out now, you should have 16 models scored\n",
    "myResults"
   ]
  },
  {
   "cell_type": "markdown",
   "id": "54cc094a",
   "metadata": {},
   "source": [
    "&#9989; **<font color=red>Do this:</font>** For each size  𝑝={1,⋯,4}\n",
    "   what is the minimum score ? The `idxmin` or `argmin` command will likely be useful for this. "
   ]
  },
  {
   "cell_type": "code",
   "execution_count": 69,
   "id": "90586681",
   "metadata": {},
   "outputs": [
    {
     "data": {
      "text/plain": [
       "15"
      ]
     },
     "execution_count": 69,
     "metadata": {},
     "output_type": "execute_result"
    }
   ],
   "source": [
    "# Your code here #\n",
    "np.argmin(myResults.iloc[:,1])"
   ]
  },
  {
   "cell_type": "markdown",
   "id": "4b0b7cd2",
   "metadata": {},
   "source": [
    "&#9989; **<font color=red>Do this:</font>** Use ``myscore_cv`` to determine the best subset of variables"
   ]
  },
  {
   "cell_type": "code",
   "execution_count": 1,
   "id": "ce3f98e5",
   "metadata": {},
   "outputs": [
    {
     "ename": "NameError",
     "evalue": "name 'combinations' is not defined",
     "output_type": "error",
     "traceback": [
      "\u001b[1;31m---------------------------------------------------------------------------\u001b[0m",
      "\u001b[1;31mNameError\u001b[0m                                 Traceback (most recent call last)",
      "\u001b[1;32m<ipython-input-1-aea53ef70e4d>\u001b[0m in \u001b[0;36m<module>\u001b[1;34m\u001b[0m\n\u001b[0;32m      4\u001b[0m \u001b[1;33m\u001b[0m\u001b[0m\n\u001b[0;32m      5\u001b[0m \u001b[1;32mfor\u001b[0m \u001b[0mi\u001b[0m \u001b[1;32min\u001b[0m \u001b[0mrange\u001b[0m\u001b[1;33m(\u001b[0m\u001b[1;36m1\u001b[0m\u001b[1;33m,\u001b[0m\u001b[1;36m5\u001b[0m\u001b[1;33m)\u001b[0m\u001b[1;33m:\u001b[0m\u001b[1;33m\u001b[0m\u001b[1;33m\u001b[0m\u001b[0m\n\u001b[1;32m----> 6\u001b[1;33m     \u001b[1;32mfor\u001b[0m \u001b[0mx\u001b[0m \u001b[1;32min\u001b[0m \u001b[0mcombinations\u001b[0m\u001b[1;33m(\u001b[0m\u001b[0minputvars\u001b[0m\u001b[1;33m,\u001b[0m \u001b[0mi\u001b[0m\u001b[1;33m)\u001b[0m\u001b[1;33m:\u001b[0m\u001b[1;33m\u001b[0m\u001b[1;33m\u001b[0m\u001b[0m\n\u001b[0m\u001b[0;32m      7\u001b[0m         \u001b[0mcurr_vars\u001b[0m \u001b[1;33m=\u001b[0m \u001b[0mx\u001b[0m\u001b[1;33m\u001b[0m\u001b[1;33m\u001b[0m\u001b[0m\n\u001b[0;32m      8\u001b[0m         \u001b[0mmyvars\u001b[0m\u001b[1;33m.\u001b[0m\u001b[0mappend\u001b[0m\u001b[1;33m(\u001b[0m\u001b[0mcurr_vars\u001b[0m\u001b[1;33m)\u001b[0m\u001b[1;33m\u001b[0m\u001b[1;33m\u001b[0m\u001b[0m\n",
      "\u001b[1;31mNameError\u001b[0m: name 'combinations' is not defined"
     ]
    }
   ],
   "source": [
    "# Your code here #\n",
    "myvars = []\n",
    "myscores = []\n",
    "\n",
    "for i in range(1,5):\n",
    "    for x in combinations(inputvars, i):\n",
    "        curr_vars = x\n",
    "        myvars.append(curr_vars)\n",
    "        curr_score = myscore_cv(auto,curr_vars, outputvar = 'mpg')\n",
    "        myscores.append(curr_score)   \n",
    "\n",
    "myResults = pd.DataFrame({'Vars':myvars, 'Score':myscores})\n",
    "myscore = myscore_avgtrain(auto,[])\n",
    "newresult = pd.DataFrame({'Vars':['empty'], 'Score':[myscore]})\n",
    "\n",
    "myResults = pd.concat([newresult,myResults],ignore_index = True)\n",
    "\n",
    "min_index = np.argmax(myResults.iloc[:,1])\n",
    "myResults.iloc[min_index,:]"
   ]
  },
  {
   "cell_type": "markdown",
   "id": "90e0202d",
   "metadata": {},
   "source": [
    "## Homework problem\n",
    "\n",
    "\n",
    "&#9989; **<font color=red>Please answer this problem in homework :</font>** write a function that does forward selection and another function that does backward selection. \n",
    "\n"
   ]
  },
  {
   "cell_type": "code",
   "execution_count": 14,
   "id": "8fbb4b1e",
   "metadata": {},
   "outputs": [],
   "source": [
    "# Your code here #"
   ]
  },
  {
   "cell_type": "code",
   "execution_count": null,
   "id": "1b79b952",
   "metadata": {},
   "outputs": [],
   "source": []
  },
  {
   "cell_type": "code",
   "execution_count": null,
   "id": "3fb8354f",
   "metadata": {},
   "outputs": [],
   "source": []
  }
 ],
 "metadata": {
  "kernelspec": {
   "display_name": "Python 3",
   "language": "python",
   "name": "python3"
  },
  "language_info": {
   "codemirror_mode": {
    "name": "ipython",
    "version": 3
   },
   "file_extension": ".py",
   "mimetype": "text/x-python",
   "name": "python",
   "nbconvert_exporter": "python",
   "pygments_lexer": "ipython3",
   "version": "3.8.8"
  },
  "vscode": {
   "interpreter": {
    "hash": "3e3338d56a43a0108f5ff8ffc1915439f9812d920a0d5bf5d66e4a60c981234a"
   }
  }
 },
 "nbformat": 4,
 "nbformat_minor": 5
}
