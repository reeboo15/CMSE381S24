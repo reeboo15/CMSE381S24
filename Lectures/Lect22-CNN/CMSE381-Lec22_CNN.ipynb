{
 "cells": [
  {
   "cell_type": "markdown",
   "id": "4dfd68f5",
   "metadata": {},
   "source": [
    "# CMSE381 - Lec 22 - CNN\n",
    "## CMSE 381 - Spring 2024\n",
    "\n",
    "\n",
    "\n",
    "\n",
    "<img src=\"https://www.researchgate.net/profile/Jose-Benitez-Andrades/publication/339447623/figure/fig2/AS:862056077082627@1582541593714/A-vanilla-Convolutional-Neural-Network-CNN-representation.png\" alt=\"Simple Convlutional Neural Net\" width=\"600\"/>"
   ]
  },
  {
   "cell_type": "code",
   "execution_count": null,
   "id": "4ea3a4b4",
   "metadata": {},
   "outputs": [],
   "source": [
    "# Everyone's favorite standard imports\n",
    "import numpy as np\n",
    "import pandas as pd\n",
    "import matplotlib as mpl\n",
    "import matplotlib.pyplot as plt\n",
    "%matplotlib inline\n",
    "import time"
   ]
  },
  {
   "cell_type": "markdown",
   "id": "a639e38f",
   "metadata": {},
   "source": [
    "# Playing with CNN\n",
    "\n",
    "Our next job is to get some more intuition for the Convolutional Neural Net architecture. \n",
    "\n",
    "\n",
    "\n",
    "Load in the following toy \"image\" to try out some tools. "
   ]
  },
  {
   "cell_type": "code",
   "execution_count": null,
   "id": "c9b15531",
   "metadata": {},
   "outputs": [],
   "source": [
    "M = np.loadtxt('../../DataSets/DL-ToyImage.csv')\n",
    "plt.matshow(M)\n",
    "plt.colorbar()"
   ]
  },
  {
   "cell_type": "markdown",
   "id": "2cfec419",
   "metadata": {},
   "source": [
    "First, we're going to try out convlution on this image. Here's a convolution filter matrix for us to test this on."
   ]
  },
  {
   "cell_type": "code",
   "execution_count": null,
   "id": "9e45c030",
   "metadata": {},
   "outputs": [],
   "source": [
    "F = np.zeros((5,5))\n",
    "F[:,:2] = 1\n",
    "F[:, 3:] = 1\n",
    "F"
   ]
  },
  {
   "cell_type": "markdown",
   "id": "1024ee5c",
   "metadata": {},
   "source": [
    "&#9989; **<font color=red>Do this:</font>** Update this `NewM` matrix so that each entry is the convolution of the input image . "
   ]
  },
  {
   "cell_type": "code",
   "execution_count": null,
   "id": "53d981b1",
   "metadata": {},
   "outputs": [],
   "source": [
    "NewM = np.zeros((30-F.shape[0],30-F.shape[0]))\n",
    "for i in range(NewM.shape[0]):\n",
    "    for j in range(NewM.shape[1]):\n",
    "        NewM[i,j] = np.NaN #<----------- you need to fix this\n",
    "        \n",
    "plt.matshow(NewM)\n",
    "plt.colorbar()"
   ]
  },
  {
   "cell_type": "markdown",
   "id": "753d1090",
   "metadata": {},
   "source": [
    "&#9989; **<font color=red>Do this:</font>** Here's a different filter. What happens when you convolve the image with this one instead? "
   ]
  },
  {
   "cell_type": "code",
   "execution_count": null,
   "id": "38c81433",
   "metadata": {},
   "outputs": [],
   "source": [
    "F = np.zeros((5,5))\n",
    "F[:2,:] = 1\n",
    "F"
   ]
  },
  {
   "cell_type": "code",
   "execution_count": null,
   "id": "5690b348",
   "metadata": {},
   "outputs": [],
   "source": [
    "# Your code here"
   ]
  },
  {
   "cell_type": "markdown",
   "id": "4db3eef8",
   "metadata": {},
   "source": [
    "## Pooling Layer"
   ]
  },
  {
   "cell_type": "markdown",
   "id": "3d4da4c1",
   "metadata": {},
   "source": [
    "After our convolution layer, we often build a pooling layer. \n",
    "\n",
    "&#9989; **<font color=red>Do this:</font>** Fix up the following code to create a pooled image from your convolved image."
   ]
  },
  {
   "cell_type": "code",
   "execution_count": null,
   "id": "99e3a334",
   "metadata": {},
   "outputs": [],
   "source": [
    "poolM = np.zeros( (NewM.shape[0]//2, NewM.shape[1]//2) )\n",
    "for i in range(NewM.shape[0]//2):\n",
    "    for j in range(NewM.shape[0]//2):\n",
    "        poolM[i,j] = np.NaN #<------------Fix this\n",
    "\n",
    "plt.matshow(poolM)\n",
    "plt.colorbar()"
   ]
  },
  {
   "cell_type": "markdown",
   "id": "c0e4d193",
   "metadata": {},
   "source": [
    "## Playing with a pre-trained classifier\n",
    "As with the regular neural nets, trying to train our own CNN is beyond the scope of the class. But we can play with some toys to see how the trained versions work. \n",
    "\n",
    "Open the following in another browser tab to answer the questions below: https://poloclub.github.io/cnn-explainer/\n",
    "\n",
    "\n",
    "&#9989; **<font color=red>Q:</font>** \n",
    "1. Read the section below on what each layer of the network does. \n",
    "1. What is the 2nd top prediction output for the bell pepper picture?\n",
    "1. Clicking on the \"+\" button lets you upload a picture.  What does your face get classified as?"
   ]
  },
  {
   "cell_type": "code",
   "execution_count": null,
   "id": "3fb8354f",
   "metadata": {},
   "outputs": [],
   "source": []
  }
 ],
 "metadata": {
  "kernelspec": {
   "display_name": "Python 3",
   "language": "python",
   "name": "python3"
  },
  "language_info": {
   "codemirror_mode": {
    "name": "ipython",
    "version": 3
   },
   "file_extension": ".py",
   "mimetype": "text/x-python",
   "name": "python",
   "nbconvert_exporter": "python",
   "pygments_lexer": "ipython3",
   "version": "3.8.8"
  }
 },
 "nbformat": 4,
 "nbformat_minor": 5
}
