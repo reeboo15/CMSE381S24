{
 "cells": [
  {
   "cell_type": "markdown",
   "id": "4dfd68f5",
   "metadata": {},
   "source": [
    "# Lecture 13 - PLS\n",
    "## CMSE 381 - SS 2024\n",
    "\n"
   ]
  },
  {
   "cell_type": "code",
   "execution_count": null,
   "id": "4ea3a4b4",
   "metadata": {},
   "outputs": [],
   "source": [
    "# Everyone's favorite standard imports\n",
    "import numpy as np\n",
    "import pandas as pd\n",
    "import matplotlib.pyplot as plt\n",
    "%matplotlib inline\n",
    "import time\n",
    "\n",
    "import seaborn as sns\n",
    "\n",
    "# ML imports we've used previously\n",
    "from sklearn.model_selection import train_test_split, cross_val_score\n",
    "from sklearn.metrics import mean_squared_error\n",
    "from sklearn.linear_model import LinearRegression\n",
    "from sklearn.decomposition import PCA\n"
   ]
  },
  {
   "cell_type": "markdown",
   "id": "450cfbaa",
   "metadata": {},
   "source": [
    "# PLS on Hitters Data"
   ]
  },
  {
   "cell_type": "markdown",
   "id": "81f9a257",
   "metadata": {},
   "source": [
    "# Loading in the data\n",
    "\n",
    "Ok, here we go, let's play with a baseball data set again. Note this cleanup is all the same as the last lab. "
   ]
  },
  {
   "cell_type": "code",
   "execution_count": null,
   "id": "3ceeb83a",
   "metadata": {},
   "outputs": [],
   "source": [
    "df = pd.read_csv('../../DataSets/Hitters.csv').dropna().drop('Player', axis = 1)\n",
    "df.info()\n",
    "dummies = pd.get_dummies(df[['League', 'Division', 'NewLeague']])"
   ]
  },
  {
   "cell_type": "code",
   "execution_count": null,
   "id": "4672d6f6",
   "metadata": {
    "scrolled": false
   },
   "outputs": [],
   "source": [
    "y = df.Salary\n",
    "\n",
    "# Drop the column with the independent variable (Salary), and columns for which we created dummy variables\n",
    "X_ = df.drop(['Salary', 'League', 'Division', 'NewLeague'], axis = 1).astype('float64')\n",
    "\n",
    "# Define the feature set X.\n",
    "X = pd.concat([X_, dummies[['League_N', 'Division_W', 'NewLeague_N']]], axis = 1)\n",
    "\n",
    "X.info()"
   ]
  },
  {
   "cell_type": "code",
   "execution_count": null,
   "id": "012e8ca6",
   "metadata": {},
   "outputs": [],
   "source": [
    "# And here we have the normalized data.\n",
    "from sklearn.preprocessing import StandardScaler\n",
    "X_normalized = StandardScaler().fit_transform(X)\n",
    "X_normalized = pd.DataFrame(X_normalized, columns = X.columns)\n",
    "X_normalized.head()"
   ]
  },
  {
   "cell_type": "markdown",
   "id": "a6a30fe2",
   "metadata": {},
   "source": [
    "# Principal Least Squares (PLS)\n",
    "\n",
    "The command do do PLS in `Scikit-learn` is  `PLSRegression`. Below is a quick code that runs PLS on our dataset. "
   ]
  },
  {
   "cell_type": "code",
   "execution_count": null,
   "id": "ac4dc711",
   "metadata": {},
   "outputs": [],
   "source": [
    "from sklearn.cross_decomposition import PLSRegression\n",
    "from sklearn.model_selection import KFold"
   ]
  },
  {
   "cell_type": "code",
   "execution_count": null,
   "id": "602ddffa",
   "metadata": {},
   "outputs": [],
   "source": [
    "pls = PLSRegression(n_components=3)\n",
    "pls.fit(X_normalized,y)\n",
    "yhat = pls.predict(X_normalized)\n",
    "mean_squared_error(y,yhat)"
   ]
  },
  {
   "cell_type": "markdown",
   "id": "a69b7075",
   "metadata": {},
   "source": [
    "But in the first notebook, we can also use the `cross_val_score` function to get the CV score easily. "
   ]
  },
  {
   "cell_type": "code",
   "execution_count": null,
   "id": "871b3c44",
   "metadata": {},
   "outputs": [],
   "source": [
    "pls = PLSRegression(n_components=3)\n",
    "scores = cross_val_score(pls, X_normalized, y, cv=10, scoring='neg_mean_squared_error')\n",
    "-scores.mean()"
   ]
  },
  {
   "cell_type": "markdown",
   "id": "b9fb760f",
   "metadata": {},
   "source": [
    "&#9989; **<font color=red>Do this:</font>**  Now your job is to test a PLS model for an increasing number of components used. I recommend using the `cross_val_score` with `scoring='neg_mean_squared_error'`. What number of components would you use? "
   ]
  },
  {
   "cell_type": "code",
   "execution_count": null,
   "id": "6e81b059",
   "metadata": {},
   "outputs": [],
   "source": [
    "n = len(X_normalized)\n",
    "mse = []\n",
    "\n",
    "# Calculate MSE using CV for an increasing number of components, \n",
    "# adding one component at a time.\n",
    "for i in np.arange(1, 20): # i is the number of components to use each time\n",
    "    # ====\n",
    "    score = 0 # Your code to figure out the score each time goes in here. \n",
    "    # ====\n",
    "\n",
    "    mse.append(score)\n",
    "    \n",
    "# Plot results    \n",
    "plt.plot(mse, '-v')\n",
    "plt.xlabel('Number of  components in regression')\n",
    "plt.ylabel('MSE')\n",
    "plt.title('Predicting Salary')\n",
    "plt.xlim(xmin=-1);"
   ]
  },
  {
   "cell_type": "code",
   "execution_count": null,
   "id": "2dc92824",
   "metadata": {},
   "outputs": [],
   "source": []
  }
 ],
 "metadata": {
  "kernelspec": {
   "display_name": "Python 3",
   "language": "python",
   "name": "python3"
  },
  "language_info": {
   "codemirror_mode": {
    "name": "ipython",
    "version": 3
   },
   "file_extension": ".py",
   "mimetype": "text/x-python",
   "name": "python",
   "nbconvert_exporter": "python",
   "pygments_lexer": "ipython3",
   "version": "3.8.8"
  }
 },
 "nbformat": 4,
 "nbformat_minor": 5
}
