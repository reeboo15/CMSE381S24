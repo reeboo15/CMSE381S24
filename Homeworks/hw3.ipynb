{
 "cells": [
  {
   "cell_type": "markdown",
   "id": "793ef0ff-7e9f-48cd-830f-dcca2f3f23db",
   "metadata": {},
   "source": [
    "## 3.7.3 "
   ]
  },
  {
   "cell_type": "markdown",
   "id": "037b91dd-2a2d-4ed7-85f2-10bca3ff584e",
   "metadata": {},
   "source": [
    "Suppose we have a data set with five predictors, X_1 = GPA, X_2 = IQ, X_3 = Level (1 for College and 0 for High School), X_4 = Interaction between GPA and IQ, and X_5 = Interaction between GPA and Level. The response is starting salary after graduation (in thousands of dollars). Suppose we use least squares to fit the model, and get $\\hat{\\beta_0} = 50, \\hat{\\beta_1} = 20, \\hat{\\beta_2} = 0.07, \\hat{\\beta_3} = 35, \\hat{\\beta_4} = 0.01, \\hat{\\beta_5} = -10$."
   ]
  },
  {
   "cell_type": "markdown",
   "id": "449d14d5-72cf-4603-a12b-d57dac3936b1",
   "metadata": {},
   "source": [
    "The model we have is $\\hat{Y} = 50 + 20*X_1 + 0.07*X_2 + 35*X_3 + 0.01*X_4 - 10*X_5$. Considering the level variable, we have the following two cases: \n",
    "\n",
    "1. $\\hat{Y}_{high school} = 50 + 20*X_1 + 0.07*X_2 + 0.01*X_4$\n",
    "2. $\\hat{Y}_{college} =  50 + 20*X_1 + 0.07*X_2 + 35 + 0.01*X_4 - 10*X_5$"
   ]
  },
  {
   "cell_type": "markdown",
   "id": "f1c5aa78-49d1-4f0a-8d9a-5ebfb6ea0d53",
   "metadata": {},
   "source": [
    "## (a)\n",
    "Which answer is correct, and why?\n",
    "\n",
    "(i) For a fixed value of IQ and GPA, high school graduates earn more, on average, than college graduates. \n",
    "\n",
    "(ii) For a fixed value of IQ and GPA, college graduates earn more, on average, than high school graduates. \n",
    "\n",
    "(iii) For a fixed value of IQ and GPA, high school graduates earn more, on average, than college graduates provided that the GPA is high enough.\n",
    "\n",
    "(iv) For a fixed value of IQ and GPA, college graduates earn more, on average, than high school graduates provided that the GPA is high enough."
   ]
  },
  {
   "cell_type": "markdown",
   "id": "304d7a7a-11a9-4b78-be89-235ef61c279f",
   "metadata": {},
   "source": [
    "For a fixed value of IQ and GPA, our models are as follows: \n",
    "\n",
    "1. $\\hat{Y}_{high school} = 50 + 0.01*X_4$\n",
    "2. $\\hat{Y}_{college} =  50 + 35*X_3 + 0.01*X_4 - 10*X_5$\n",
    "\n",
    "Since high school graduates have a positive model, then for a high enough GPA, high school graduates earn more, on average, than college graduates. Answer (iii) is correct."
   ]
  },
  {
   "cell_type": "markdown",
   "id": "966a916b-4681-4f05-9b14-5e7176189558",
   "metadata": {},
   "source": [
    "## (b)\n",
    "\n",
    "Predict the salary of a college graduate with IQ of 110 and a GPA of 4.0."
   ]
  },
  {
   "cell_type": "code",
   "execution_count": 1,
   "id": "0b2b02fa-e270-4d6b-a90d-824c423c4a71",
   "metadata": {},
   "outputs": [
    {
     "data": {
      "text/plain": [
       "137.1"
      ]
     },
     "execution_count": 1,
     "metadata": {},
     "output_type": "execute_result"
    }
   ],
   "source": [
    "50 + 20*4.0 + 0.07*110 + 35*1 + 0.01*(110*4) - 10*4.0"
   ]
  },
  {
   "cell_type": "markdown",
   "id": "115ecf3b-10c6-4ab1-aad5-765420ea0fff",
   "metadata": {},
   "source": [
    "## (c)\n",
    "\n",
    "True or false: Since the coefficient for the GPA/IQ interaction term is very small, there is very little evidence of an interaction effect. Justify your answer.\n",
    "\n",
    "Answer: We cannot determine True or False without further information. GPA and IQ when multiplied give a large number on average, compared to the other values considered in the model. To account for this we must have a smaller coefficient. Therefore the statement may be false.\n",
    "\n",
    "However, the small coefficient may also indicate that the impact of the interaction effect on the overall salary is minimal, since the coefficient is very small. Therefore it may be true as well. "
   ]
  },
  {
   "cell_type": "markdown",
   "id": "f2698825-94ed-46c0-abce-b4195db2e3b2",
   "metadata": {},
   "source": [
    "## 3.7.4\n",
    "\n",
    "I collect a set of data (n = 100 observations) containing a single predictor and a quantitative response. I then fit a linear regression model to the data, as well as a separate cubic regression, i.e. $Y = \\beta_0 + \\beta_1*X + \\beta_2*X^2 + \\beta_3*X^3 + \\varepsilon$."
   ]
  },
  {
   "cell_type": "markdown",
   "id": "4c140ed5-8568-428b-837d-08f5adebb1c4",
   "metadata": {},
   "source": [
    "(a) Suppose that the true relationship between $X$ and $Y$ is linear, i.e. $Y = \\beta_0 + \\beta_1*X + \\varepsilon$. Consider the training residual sum of squares (RSS) for the linear regression, and also the training RSS for the cubic regression. Would we expect one to be lower than the other, would we expect them to be the same, or is there not enough information to tell? Justify your answer.\n",
    "\n",
    "There should be a lower RSS value for linear regression compared to the training RSS for the cubic regression. Since the true relationship is linear, a linear model will be able to capture the trend in data more effectively. The cubic regression is likely to overfit the data. While it can adapt to the data better, it is also more likely to capture more of the noise and fluctuations in the data, resulting in a higher RSS."
   ]
  },
  {
   "cell_type": "markdown",
   "id": "39d47696-7fa3-4a02-8fee-d55351d8bd6e",
   "metadata": {},
   "source": [
    "(b) Answer (a) using test rather than training RSS.\n",
    "\n",
    "For this, we do not have enough information to tell. The test training data is modeled after the true relationship, which is linear, may not be truly linear still. A linear model is still expected to perform better at adapting to the test data, so the RSS is likely to remain low. However, a cubic model may be better at capturing any true variations in the test data. There is still a risk of overfitting, so overall a cubic regression may perform worse on the test data."
   ]
  },
  {
   "cell_type": "markdown",
   "id": "d211d963-7095-4ca0-986e-cb7ab39f549d",
   "metadata": {},
   "source": [
    "## 3.7.6\n",
    "\n",
    "Using (3.4), argue that in the case of simple linear regression, the least squares line always passes through the point $(\\overline{x}, \\overline{y})$."
   ]
  },
  {
   "cell_type": "markdown",
   "id": "d5e8c479-af5b-4147-9ca3-a8c892e0d676",
   "metadata": {},
   "source": [
    "Plugging in the equations for $\\overline{x}, \\overline{y}$ into the equations for $\\beta_1$, we see that the numerator is the convariance between x and y. This means the line must always pass through the point $\\overline{x}, \\overline{y}$."
   ]
  },
  {
   "cell_type": "code",
   "execution_count": null,
   "id": "4f47e6fd-f141-4357-af06-6f3f73c1b17c",
   "metadata": {},
   "outputs": [],
   "source": []
  }
 ],
 "metadata": {
  "kernelspec": {
   "display_name": "Python 3",
   "language": "python",
   "name": "python3"
  },
  "language_info": {
   "codemirror_mode": {
    "name": "ipython",
    "version": 3
   },
   "file_extension": ".py",
   "mimetype": "text/x-python",
   "name": "python",
   "nbconvert_exporter": "python",
   "pygments_lexer": "ipython3",
   "version": "3.8.8"
  }
 },
 "nbformat": 4,
 "nbformat_minor": 5
}
