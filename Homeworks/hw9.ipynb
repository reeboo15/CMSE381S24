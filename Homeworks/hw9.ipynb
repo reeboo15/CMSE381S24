{
 "cells": [
  {
   "cell_type": "code",
   "execution_count": 1,
   "id": "bcfbf6a3-28c0-4e93-ba46-32ef24d6897e",
   "metadata": {},
   "outputs": [],
   "source": [
    "#imports\n",
    "import numpy as np\n",
    "import pandas as pd\n",
    "import matplotlib.pyplot as plt \n",
    "%matplotlib inline\n",
    "import seaborn as sns\n",
    "import statsmodels.formula.api as smf\n",
    "from sklearn.preprocessing import StandardScaler, LabelEncoder,scale\n",
    "from sklearn.linear_model import LogisticRegression, LinearRegression, Ridge, RidgeCV, Lasso, LassoCV\n",
    "import warnings\n",
    "warnings.filterwarnings('ignore')\n",
    "from sklearn.discriminant_analysis import LinearDiscriminantAnalysis, QuadraticDiscriminantAnalysis\n",
    "from sklearn.ensemble import RandomForestClassifier\n",
    "from sklearn.metrics import accuracy_score, confusion_matrix, mean_squared_error\n",
    "from sklearn.neighbors import KNeighborsClassifier\n",
    "from sklearn.model_selection import cross_val_score, train_test_split\n",
    "from mlxtend.feature_selection import SequentialFeatureSelector as sfs\n",
    "from sklearn.decomposition import PCA\n",
    "from sklearn.cross_decomposition import PLSRegression\n",
    "from sklearn.model_selection import GridSearchCV\n",
    "from sklearn.model_selection import KFold as KF"
   ]
  },
  {
   "cell_type": "markdown",
   "id": "1be2323b-a0a2-41fb-acb4-73c6e1c98ae4",
   "metadata": {},
   "source": [
    "## 7.9.1\n",
    "\n",
    "It was mentioned in this chapter that a cubic regression spline with one knot at $\\xi$ can be obtained using a basis of the form $x, x^2, x^3, (x -\\xi)^3_+$, where $(x - \\xi)^3_+ = (x - \\xi)^3$ if $x > \\xi$ and equals 0 otherwise. We will now show that a function of the form\n",
    "\n",
    "$$ f(x) = \\beta_0 + \\beta_1 x + \\beta_2 x^2 + \\beta_3 x^3 + \\beta_4 (x -\\xi)^3_+ $$\n",
    "\n",
    "is indeed a cubic regression spline, regardless of the values of $\\beta_0, \\beta_1, \\beta_2, \\beta_3, \\beta_4$.\n",
    "\n",
    "(a) Find a cubic polynomial \n",
    "\n",
    "$$f_1 (x) = a_1 + b_1 x + c_1 x^2 + d_1 x^3$$\n",
    "\n",
    "such that $f(x) = f_1 (x)$ for all $x \\leq \\xi$. Express $a_1, b_1, c_1, d_1$ in terms of $\\beta_0, \\beta_1, \\beta_2, \\beta_3, \\beta_4$."
   ]
  },
  {
   "cell_type": "markdown",
   "id": "9aef26bc-d06d-4a61-a95d-2d3851721b26",
   "metadata": {},
   "source": [
    "We have the following, for $x \\leq \\xi$:\n",
    "\n",
    "$f(x) = \\beta_0 + \\beta_1 x + \\beta_2 x^3 + \\beta_3 x^3$\n",
    "\n",
    "We can set the following coefficients:\n",
    "\n",
    "$a_1 = \\beta_0$\n",
    "\n",
    "$b_1 = \\beta_1$\n",
    "\n",
    "$c_1 = \\beta_2$\n",
    "\n",
    "$d_1 = \\beta_3$\n",
    "\n",
    "and so we get $f_1$."
   ]
  },
  {
   "cell_type": "markdown",
   "id": "52370812-8af6-41b1-a841-49c582b4a2e0",
   "metadata": {},
   "source": [
    "(b) Find a cubic polynomial\n",
    "\n",
    "$$f_2 = a_2 + b_2 x + c_2 x^2 + d_2 x^3$$\n",
    "\n",
    "such that $f(x) = f_2(x)$ for all $x > \\xi$. Express $a_2, b_2, c_2, d_2$ in terms of $\\beta_0, \\beta_1, \\beta_2, \\beta_3, \\beta_4$. We have now established that $f(x)$ is a piecewise polynomial."
   ]
  },
  {
   "cell_type": "markdown",
   "id": "ab954dc3-e6d7-4319-946f-3cce48fb384d",
   "metadata": {},
   "source": [
    "We have the following for $x > \\xi$\n",
    "\n",
    "$f(x) = \\beta_0 + \\beta_1 x + \\beta_2 x^2 + \\beta_3 x^4 + \\beta_4 (x^3 - 3x^2 \\xi + 3 x \\xi^2 - \\xi^3) $\n",
    "\n",
    "$= \\beta_0 - \\beta_4 \\xi^3 + (\\beta_1 + 3 \\beta_4 \\xi^2)x + (\\beta_2 - 3 \\beta_4 \\xi) x^2 + (\\beta_3 + \\beta_4) x^3$"
   ]
  },
  {
   "cell_type": "markdown",
   "id": "2237955c-1f44-414a-a1d6-3407b0792d1f",
   "metadata": {},
   "source": [
    "(c) Show that $f_1 (\\xi) = f_2 (\\xi)$. That is, $f(x)$ is continuous at $\\xi$."
   ]
  },
  {
   "cell_type": "code",
   "execution_count": null,
   "id": "e044410a-b8be-4565-bd4b-08e910a62964",
   "metadata": {},
   "outputs": [],
   "source": []
  },
  {
   "cell_type": "markdown",
   "id": "a221af8e-965c-40c0-b51a-f1aac30c714e",
   "metadata": {},
   "source": [
    "(d) Show that $f_1 ' (\\xi) = f_2' (\\xi)$. That is, $f'(x)$ is continuous at $\\xi$."
   ]
  },
  {
   "cell_type": "markdown",
   "id": "079dafd5-6f0f-4f5a-9300-fc07a0925a82",
   "metadata": {},
   "source": [
    "(e) Show that $f_1'' (\\xi) = f_2''(\\xi)$. That is, $f''(x)$ is continuous at $\\xi$."
   ]
  },
  {
   "cell_type": "markdown",
   "id": "f6645248-d803-49bc-8586-2ed7a8b13653",
   "metadata": {},
   "source": [
    "Therefore, $f(x)$ is indeed a cubic spline. \n",
    "\n",
    "Hint: Parts $(d)$ and $(e)$ of this problem require knowledge of single-variable calculus."
   ]
  }
 ],
 "metadata": {
  "kernelspec": {
   "display_name": "Python 3",
   "language": "python",
   "name": "python3"
  },
  "language_info": {
   "codemirror_mode": {
    "name": "ipython",
    "version": 3
   },
   "file_extension": ".py",
   "mimetype": "text/x-python",
   "name": "python",
   "nbconvert_exporter": "python",
   "pygments_lexer": "ipython3",
   "version": "3.8.8"
  }
 },
 "nbformat": 4,
 "nbformat_minor": 5
}
