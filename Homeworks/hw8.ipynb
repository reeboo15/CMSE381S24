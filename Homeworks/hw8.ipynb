{
 "cells": [
  {
   "cell_type": "code",
   "execution_count": 67,
   "id": "2d2ae8ad-4127-48fb-b8a3-b668c384de4c",
   "metadata": {},
   "outputs": [],
   "source": [
    "#imports\n",
    "import numpy as np\n",
    "import pandas as pd\n",
    "import matplotlib.pyplot as plt \n",
    "%matplotlib inline\n",
    "import seaborn as sns\n",
    "import statsmodels.formula.api as smf\n",
    "from sklearn.preprocessing import StandardScaler, LabelEncoder,scale\n",
    "from sklearn.linear_model import LogisticRegression, LinearRegression, Ridge, RidgeCV, Lasso, LassoCV\n",
    "import warnings\n",
    "warnings.filterwarnings('ignore')\n",
    "from sklearn.discriminant_analysis import LinearDiscriminantAnalysis, QuadraticDiscriminantAnalysis\n",
    "from sklearn.ensemble import RandomForestClassifier\n",
    "from sklearn.metrics import accuracy_score, confusion_matrix, mean_squared_error\n",
    "from sklearn.neighbors import KNeighborsClassifier\n",
    "from sklearn.model_selection import cross_val_score, train_test_split\n",
    "from mlxtend.feature_selection import SequentialFeatureSelector as sfs\n",
    "from sklearn.decomposition import PCA\n",
    "from sklearn.cross_decomposition import PLSRegression\n",
    "from sklearn.model_selection import GridSearchCV\n",
    "from sklearn.model_selection import KFold as KF"
   ]
  },
  {
   "cell_type": "markdown",
   "id": "d4fee0b2-b357-4b26-964d-5efbfbcf4b38",
   "metadata": {},
   "source": [
    "## 6.6.9\n",
    "In this exercise, we will predict the number of applications received using the other variables in the College data set. \n",
    "\n",
    "(a) Split the data set into a training set and a test set."
   ]
  },
  {
   "cell_type": "code",
   "execution_count": 14,
   "id": "7e461a8b-bc4d-4ce7-8022-e33a7d1d7a62",
   "metadata": {},
   "outputs": [],
   "source": [
    "df = pd.read_csv(\"College.csv\", index_col = 'Unnamed: 0')\n",
    "df = pd.get_dummies(df, drop_first = True)\n",
    "x = df.drop(columns = ['Apps'])\n",
    "y = df.iloc[:,0]\n",
    "x_train, x_test, y_train, y_test = train_test_split(x, y, test_size=0.3, random_state=42)"
   ]
  },
  {
   "cell_type": "markdown",
   "id": "f752f237-fd2b-4d39-b30a-056bedee0a3b",
   "metadata": {},
   "source": [
    "(b) Fit a linear model using least squares on the training set, and report the test error obtained."
   ]
  },
  {
   "cell_type": "code",
   "execution_count": 20,
   "id": "dfe10573-ce2a-41d2-a036-f127c6716a2c",
   "metadata": {},
   "outputs": [
    {
     "data": {
      "text/plain": [
       "1931803.1942070364"
      ]
     },
     "execution_count": 20,
     "metadata": {},
     "output_type": "execute_result"
    }
   ],
   "source": [
    "ls = LinearRegression().fit(x_train, y_train)\n",
    "ls_pred = ls.predict(x_test)\n",
    "ls_coef = pd.Series(ls.coef_, index = x.columns)\n",
    "ls_int = pd.Series(ls.intercept_, index = ['Intercept'])\n",
    "ls_table = pd.DataFrame(pd.concat([ls_int, ls_coef]))\n",
    "ls_table.columns = ['Coefficients']\n",
    "ls_error = mean_squared_error(y_test,ls_pred)\n",
    "ls_error"
   ]
  },
  {
   "cell_type": "markdown",
   "id": "54ef47ea-43f4-4931-a2c0-da5ac44998f2",
   "metadata": {},
   "source": [
    "(c) Fit a ridge regression model on the training set, with $\\lambda$ chosen by cross-validation. Report the test error obtained."
   ]
  },
  {
   "cell_type": "code",
   "execution_count": 32,
   "id": "7e00d891-eb3e-4a25-9fe0-dee7e1433998",
   "metadata": {},
   "outputs": [
    {
     "data": {
      "text/plain": [
       "642759.8742563279"
      ]
     },
     "execution_count": 32,
     "metadata": {},
     "output_type": "execute_result"
    }
   ],
   "source": [
    "def normalize(X):    \n",
    "  return (X-X.mean())/X.std()\n",
    "x_norm = normalize(x)\n",
    "alphas = 10**np.logspace(4,-2,100)*0.5\n",
    "x_train, x_test , y_train, y_test = train_test_split(x_norm, y, test_size=0.3, random_state=1)\n",
    "ridgecv = RidgeCV(alphas = alphas, scoring = 'neg_mean_squared_error')\n",
    "ridgecv.fit(x_train, y_train)\n",
    "pred = ridgecv.predict(x_test)\n",
    "mean_squared_error(y_test,pred)"
   ]
  },
  {
   "cell_type": "markdown",
   "id": "cea057a4-b55e-439a-8b75-8adbb77c9c24",
   "metadata": {},
   "source": [
    "(d) Fit a lasso model on the training set, with $\\lambda$ chosen by cross-validation. Report the test error obtained, along with the number of non-zero coefficient estimates."
   ]
  },
  {
   "cell_type": "code",
   "execution_count": 42,
   "id": "3beb42d0-ae0c-434b-82ef-7ce32f269e3f",
   "metadata": {},
   "outputs": [
    {
     "data": {
      "text/plain": [
       "155842227994659.78"
      ]
     },
     "execution_count": 42,
     "metadata": {},
     "output_type": "execute_result"
    }
   ],
   "source": [
    "alphas = 10**np.linspace(4,-2,100)*0.5\n",
    "x_train, x_test , y_train, y_test = train_test_split(x, y, test_size=0.3, random_state=1) \n",
    "transformer = StandardScaler().fit(x_train)\n",
    "x_train_norm = pd.DataFrame(transformer.transform(x_train), columns = x_train.columns)\n",
    "x_test_norm = transformer.transform(x_test)\n",
    "lassocv = LassoCV(alphas = alphas)\n",
    "lassocv.fit(x_train_norm, y_train)\n",
    "pred = lassocv.predict(x_test)\n",
    "mean_squared_error(y_test,pred)\n"
   ]
  },
  {
   "cell_type": "markdown",
   "id": "525d3c79-10ac-46de-b28b-22e19218ddae",
   "metadata": {},
   "source": [
    "(e) Fit a PCR model on the training set, with $M$ chosen by cross-validation. Report the test error obtained, along with the value of $M$ selected by cross-validation."
   ]
  },
  {
   "cell_type": "code",
   "execution_count": 66,
   "id": "ca443d5d-fdcd-4d68-8b5e-b84c290a8eff",
   "metadata": {},
   "outputs": [
    {
     "name": "stdout",
     "output_type": "stream",
     "text": [
      "Selected M: 9\n",
      "Test error: 1565297.2047631578\n"
     ]
    }
   ],
   "source": [
    "scaler = StandardScaler()\n",
    "x_train_scaled = scaler.fit_transform(x_train)\n",
    "x_test_scaled = scaler.transform(x_test)\n",
    "\n",
    "cv_scores = []\n",
    "for m in range(1, min(x_train.shape[1],10)):\n",
    "    pca = PCA(n_components = m)\n",
    "    x_train_pca = pca.fit_transform(x_train_scaled)\n",
    "    cv_score = -cross_val_score(LinearRegression(), x_train_pca, y_train, cv=5, scoring='neg_mean_squared_error').mean()\n",
    "    cv_scores.append((m,cv_score))\n",
    "\n",
    "best_m, _ = min(cv_scores, key=lambda x: x[1])\n",
    "\n",
    "pca = PCA(n_components=best_m)\n",
    "x_train_pca = pca.fit_transform(x_train_scaled)\n",
    "model = LinearRegression().fit(x_train_pca, y_train)\n",
    "\n",
    "x_test_pca = pca.transform(x_test_scaled)\n",
    "y_pred = model.predict(x_test_pca)\n",
    "test_error = mean_squared_error(y_test, y_pred)\n",
    "\n",
    "print(\"Selected M:\", best_m)\n",
    "print(\"Test error:\", test_error)\n"
   ]
  },
  {
   "cell_type": "markdown",
   "id": "2d526962-9343-4aa5-89d5-2bb8967aab1d",
   "metadata": {},
   "source": [
    "(f) Fit a PLS model on the training set, with M chosen by cross-validation. Report the test error obtained, along with the value of $M$ selected by cross-validation."
   ]
  },
  {
   "cell_type": "code",
   "execution_count": 69,
   "id": "7f01484c-9d59-42eb-91d7-f71d45e67db7",
   "metadata": {},
   "outputs": [
    {
     "name": "stdout",
     "output_type": "stream",
     "text": [
      "Selected M: 9\n",
      "Test error: 647317.9571118628\n"
     ]
    }
   ],
   "source": [
    "param_grid = {'n_components': range(1, min(x_train.shape[1], 10))} \n",
    "pls = PLSRegression()\n",
    "grid_search = GridSearchCV(pls, param_grid, cv=5, scoring='neg_mean_squared_error')\n",
    "grid_search.fit(x_train_scaled, y_train)\n",
    "\n",
    "best_m = grid_search.best_params_['n_components']\n",
    "\n",
    "pls_best = PLSRegression(n_components=best_m)\n",
    "pls_best.fit(x_train_scaled, y_train)\n",
    "\n",
    "y_pred = pls_best.predict(x_test_scaled)\n",
    "test_error = mean_squared_error(y_test, y_pred)\n",
    "\n",
    "print(\"Selected M:\", best_m)\n",
    "print(\"Test error:\", test_error)"
   ]
  },
  {
   "cell_type": "markdown",
   "id": "6293db7a-6988-4371-9d94-039353207d83",
   "metadata": {},
   "source": [
    "(g) Comment on the results obtained. How accurately can we predict the number of college applications received? Is there much difference among the test errors resulting from these five approaches?"
   ]
  },
  {
   "cell_type": "markdown",
   "id": "d6526321-946e-4b82-8257-b464c216b187",
   "metadata": {},
   "source": [
    "PLS and Lasso were the best predictors. There is definitely a large difference in the different approaches."
   ]
  },
  {
   "cell_type": "markdown",
   "id": "bd53c198-6023-46df-98cc-b2ba50424bd9",
   "metadata": {},
   "source": [
    "## 7.9.4\n",
    "\n",
    "Suppose we fit a curve with basis functions $b_1 (X) = X$, $b_2(X) = (X-1)^2 I (X \\geq 1)$. (Note that $I(X \\geq I)$ equal $1$ for $X \\geq I$ and $0$ otherwise.) We fit the linear regression model\n",
    "\n",
    "$$ Y = \\beta_0 + \\beta_1 b_1 (X) + \\beta_2 b_2 (X) + \\epsilon$$, \n",
    "\n",
    "and obtain coefficient estimates $\\hat{\\beta}_0 = 1$, $\\hat{\\beta}_1 = 1$, $\\hat{\\beta}_2 = -2$. Sketch the estimated curve between $X = -2$ and $X = 2$. Note the intercepts, slopes, and other relevant information."
   ]
  },
  {
   "cell_type": "markdown",
   "id": "b95ec937-4df7-412c-a9e2-466d16c1f5b1",
   "metadata": {},
   "source": [
    "We have that\n",
    "\n",
    "$$Y = 1 + b_1(X) - 2 b_2(X) + \\epsilon = 1 + X + \\epsilon$$\n",
    "\n",
    "We could remove $b_2$ as when the input is not in the interval $(x \\geq 1)$, $b_2$ is zero. However when the input is in the interval, $b_2$ remains zero. We now have the following computations:\n",
    "\n",
    "$Y(-2) = 1 + (-2) = -1$\n",
    "\n",
    "$Y(-1) = 1 + (-1) = 0$\n",
    "\n",
    "$Y(0) = 1 + 0 = 1$\n",
    "\n",
    "$Y(1) = 1 + 1 = 2$\n",
    "\n",
    "$Y(2) = 1 + 2= 3$\n"
   ]
  },
  {
   "cell_type": "code",
   "execution_count": 71,
   "id": "e50c019c-c416-44ca-8abb-290b5608f5f0",
   "metadata": {},
   "outputs": [
    {
     "data": {
      "text/plain": [
       "[<matplotlib.lines.Line2D at 0x20456275a00>]"
      ]
     },
     "execution_count": 71,
     "metadata": {},
     "output_type": "execute_result"
    },
    {
     "data": {
      "image/png": "[encoded data removed]",
      "text/plain": [
       "<Figure size 432x288 with 1 Axes>"
      ]
     },
     "metadata": {
      "needs_background": "light"
     },
     "output_type": "display_data"
    }
   ],
   "source": [
    "x = [-2,-1,0,1,2]\n",
    "y = [-1,0,1,2,3]\n",
    "plt.plot(x,y)"
   ]
  },
  {
   "cell_type": "markdown",
   "id": "89d6a10f-57f6-4f92-a857-a4dab9802252",
   "metadata": {},
   "source": [
    "## 7.9.4\n",
    "\n",
    "Suppose we fit a curve with basis functions $b_1 (X) = I(0 \\leq X \\leq 2) - (X-1)I(1 \\leq X \\leq 2)$, $b_2(X) = (X-3)^2 I (3 \\leq X \\leq 4)$. (Note that $I(X \\geq I)$ equal $1$ for $X \\geq I$ and $0$ otherwise.) We fit the linear regression model\n",
    "\n",
    "$$ Y = \\beta_0 + \\beta_1 b_1 (X) + \\beta_2 b_2 (X) + \\epsilon$$, \n",
    "\n",
    "and obtain coefficient estimates $\\hat{\\beta}_0 = 1$, $\\hat{\\beta}_1 = 1$, $\\hat{\\beta}_2 = 3$. Sketch the estimated curve between $X = -2$ and $X = 6$. Note the intercepts, slopes, and other relevant information."
   ]
  },
  {
   "cell_type": "markdown",
   "id": "c2851560-39d2-4ff2-9f30-96f7a2c740f3",
   "metadata": {},
   "source": [
    "We have the model\n",
    "\n",
    "$$Y = 1 + b_1 + 3b_2 + \\epsilon$$\n",
    "\n",
    "We now have the following computations:\n",
    "\n",
    "$Y(-2) = 1 + (0-0) + 3*0 = 1$\n",
    "\n",
    "$Y(-1) = 1 + (0-0) + 3*0 = 1$\n",
    "\n",
    "$Y(0) = 1 + (1 - 0) + 3*0 = 2$\n",
    "\n",
    "$Y(1) = 1 + (1 - (1-1)) + 3*0 = 2$\n",
    "\n",
    "$Y(2) = 1 + (1-(2-1)) + 3*0 = 1$\n",
    "\n",
    "$Y(3) = 1 + (0-0) + 3*(3-3)^2 = 1$\n",
    "\n",
    "$Y(4) = 1 + (0-0) + 3*(4-3)^2 = 4$\n",
    "\n",
    "$Y(5) = 1 + (0-0) + 3*0 = 1$\n",
    "\n",
    "$Y(6) = 1 + (0-0) + 3*0 = 1$"
   ]
  },
  {
   "cell_type": "code",
   "execution_count": 73,
   "id": "f3020fbd-4762-4f9e-b202-e0f9eb05fb00",
   "metadata": {},
   "outputs": [
    {
     "data": {
      "text/plain": [
       "[<matplotlib.lines.Line2D at 0x204562f37c0>]"
      ]
     },
     "execution_count": 73,
     "metadata": {},
     "output_type": "execute_result"
    },
    {
     "data": {
      "image/png": "[encoded data removed]",
      "text/plain": [
       "<Figure size 432x288 with 1 Axes>"
      ]
     },
     "metadata": {
      "needs_background": "light"
     },
     "output_type": "display_data"
    }
   ],
   "source": [
    "y = [1,1,2,2,1,1,4,1,1]\n",
    "x = [-2,-1,0,1,2,3,4,5,6]\n",
    "plt.plot(x,y)"
   ]
  },
  {
   "cell_type": "code",
   "execution_count": null,
   "id": "6fef512a-c65e-4cd4-84b9-89aa672afe51",
   "metadata": {},
   "outputs": [],
   "source": []
  }
 ],
 "metadata": {
  "kernelspec": {
   "display_name": "Python 3",
   "language": "python",
   "name": "python3"
  },
  "language_info": {
   "codemirror_mode": {
    "name": "ipython",
    "version": 3
   },
   "file_extension": ".py",
   "mimetype": "text/x-python",
   "name": "python",
   "nbconvert_exporter": "python",
   "pygments_lexer": "ipython3",
   "version": "3.8.8"
  }
 },
 "nbformat": 4,
 "nbformat_minor": 5
}
