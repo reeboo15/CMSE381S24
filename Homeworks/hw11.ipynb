{
 "cells": [
  {
   "cell_type": "code",
   "execution_count": 1,
   "id": "090c1a58-b2c8-47d3-9cba-4d1b3e49bf70",
   "metadata": {},
   "outputs": [],
   "source": [
    "#imports\n",
    "import numpy as np\n",
    "import pandas as pd\n",
    "import matplotlib.pyplot as plt \n",
    "%matplotlib inline\n",
    "import seaborn as sns\n",
    "import statsmodels.formula.api as smf\n",
    "from sklearn.preprocessing import StandardScaler, LabelEncoder,scale\n",
    "from sklearn.linear_model import LogisticRegression, LinearRegression, Ridge, RidgeCV, Lasso, LassoCV\n",
    "import warnings\n",
    "warnings.filterwarnings('ignore')\n",
    "from sklearn.discriminant_analysis import LinearDiscriminantAnalysis, QuadraticDiscriminantAnalysis\n",
    "from sklearn.ensemble import RandomForestClassifier\n",
    "from sklearn.metrics import accuracy_score, confusion_matrix, mean_squared_error\n",
    "from sklearn.neighbors import KNeighborsClassifier\n",
    "from sklearn.model_selection import cross_val_score, train_test_split\n",
    "from mlxtend.feature_selection import SequentialFeatureSelector as sfs\n",
    "from sklearn.decomposition import PCA\n",
    "from sklearn.cross_decomposition import PLSRegression\n",
    "from sklearn.model_selection import GridSearchCV\n",
    "from sklearn.model_selection import KFold as KF"
   ]
  },
  {
   "cell_type": "markdown",
   "id": "704037c3-b4c5-4576-9cb7-295958a1f19d",
   "metadata": {},
   "source": [
    "### 10.10.2\n",
    "\n",
    "Consider the softmax function in (10.13) (see also (4.13) on page 145) for modeling multinomial probabilities.\n",
    "\n",
    "(a) In (10.13), show that if we add a constant $c$ to each of the $z_l$, then the probability is unchanged.\n",
    "\n",
    "Assuming $z_m = a$, with $m$ being some integer in $[0,9]$. We add $c$ to each of the $z_l$. So we have \n",
    "\n",
    "$$\\frac{e^{a+c}}{\\sum^9_{l=0} e^{z_l + c}}$$\n",
    "\n",
    "$$=\\frac{e^a e^c}{\\sum^9_{l=0} e^{z_l} e^c}$$\n",
    "\n",
    "$$=\\frac{e^a e^c}{e^c \\sum^9_{l=0} e^{z_l}}$$\n",
    "\n",
    "$$=\\frac{e^a}{\\sum^9_{l=0} e^{z_l}}$$\n",
    "\n",
    "which is what we had initially."
   ]
  },
  {
   "cell_type": "markdown",
   "id": "1e65174a-c651-4e12-8ea4-a2f22306a69a",
   "metadata": {},
   "source": [
    "(b) In (4.13), show that if we add constants $c_j , j = 0, 1, . . . , p$, to each of the corresponding coefficients for each of the classes, then the predictions at any new point x are unchanged. This shows that the softmax function is over-parametrized. However, regularization and SGD typically constrain the solutions so that this is not a problem.\n",
    "\n",
    "\n"
   ]
  },
  {
   "cell_type": "markdown",
   "id": "c857e5f9-cd76-46ed-82a1-2b1e9252038e",
   "metadata": {},
   "source": [
    "When we add constants to each coefficient, they end up cancelling similar to the above question. We can take $e^{0+1+...+p}$ common in both the numerator and the denominator, and cancel those out."
   ]
  },
  {
   "attachments": {
    "2397fec6-9acb-47e2-ba9c-e9e7c12b3734.png": {
     "image/png": "[encoded data removed]"
    }
   },
   "cell_type": "markdown",
   "id": "cd440abf-0672-4d78-9fa2-7211137a032b",
   "metadata": {},
   "source": [
    "### 10.10.4\n",
    "\n",
    "Consider a CNN that takes in 32 × 32 grayscale images and has a single convolution layer with three 5 × 5 convolution filters (without boundary padding).\n",
    "\n",
    "(a) Draw a sketch of the input and first hidden layer similar to Figure 10.8.\n",
    "\n",
    "\n",
    "![layers.png](attachment:2397fec6-9acb-47e2-ba9c-e9e7c12b3734.png)"
   ]
  },
  {
   "cell_type": "markdown",
   "id": "4930f91b-4ddf-4746-91ee-4306db96ed9f",
   "metadata": {},
   "source": [
    "(b) How many parameters are in this model?\n",
    "\n",
    "The number of parameters is $(5*5*1+1)*3 = 26*3 = 78$. \n",
    "\n",
    "Formula from https://towardsdatascience.com/understanding-and-calculating-the-number-of-parameters-in-convolution-neural-networks-cnns-fc88790d530d\n",
    "\n",
    "(c) Explain how this model can be thought of as an ordinary feedforward neural network with the individual pixels as inputs, and with constraints on the weights in the hidden units. What are the constraints?\n",
    "\n",
    "Each pixel acts as an input. The covolutional layer is a set of neurons with a weight matrix. The same filter (weight matrix) is used so this puts a constraint on the number of parameters. We can also only consider small fields at a time. \n",
    "\n",
    "\n",
    "(d) If there were no constraints, then how many weights would there be in the ordinary feed-forward neural network in (c)?\n",
    "\n",
    "If the first hidden layer had N neurons, then there would be 1024N weights. "
   ]
  },
  {
   "cell_type": "code",
   "execution_count": null,
   "id": "bb4b88c9-f977-492a-8666-6ffc730309b0",
   "metadata": {},
   "outputs": [],
   "source": []
  }
 ],
 "metadata": {
  "kernelspec": {
   "display_name": "Python 3",
   "language": "python",
   "name": "python3"
  },
  "language_info": {
   "codemirror_mode": {
    "name": "ipython",
    "version": 3
   },
   "file_extension": ".py",
   "mimetype": "text/x-python",
   "name": "python",
   "nbconvert_exporter": "python",
   "pygments_lexer": "ipython3",
   "version": "3.8.8"
  }
 },
 "nbformat": 4,
 "nbformat_minor": 5
}
