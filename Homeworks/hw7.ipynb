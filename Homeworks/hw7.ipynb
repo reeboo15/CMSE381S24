{
 "cells": [
  {
   "cell_type": "code",
   "execution_count": 1,
   "id": "4ee942f9-46f4-4722-a812-e4f62a839b35",
   "metadata": {},
   "outputs": [],
   "source": [
    "#imports\n",
    "import numpy as np\n",
    "import pandas as pd\n",
    "import matplotlib.pyplot as plt \n",
    "%matplotlib inline\n",
    "import seaborn as sns\n",
    "import statsmodels.formula.api as smf\n",
    "from sklearn.preprocessing import StandardScaler, LabelEncoder\n",
    "from sklearn.linear_model import LogisticRegression\n",
    "from sklearn.discriminant_analysis import LinearDiscriminantAnalysis\n",
    "from sklearn.discriminant_analysis import QuadraticDiscriminantAnalysis\n",
    "from sklearn.ensemble import RandomForestClassifier\n",
    "from sklearn.metrics import accuracy_score, confusion_matrix\n",
    "from sklearn.neighbors import KNeighborsClassifier\n",
    "from sklearn.model_selection import cross_val_score\n",
    "from mlxtend.feature_selection import SequentialFeatureSelector as sfs\n",
    "from sklearn.linear_model import LinearRegression"
   ]
  },
  {
   "cell_type": "markdown",
   "id": "5b5acf5b-01f2-4482-86e5-9595fe8e3ade",
   "metadata": {},
   "source": [
    "## 6.4.4\n",
    "Suppose we estimate the regression coefficients in a linear regression model by minimizing\n",
    "\n",
    "$\\sum^n_{i=1} (y_i - \\beta_0 - \\sum^p_{j=1} \\beta_j x_{ij} )^2 + \\lambda \\sum^p_{j=1} \\beta^2_j$\n",
    "\n",
    "for a particular value of λ. For parts (a) through (e), indicate which of i. through v. is correct. Justify your answer."
   ]
  },
  {
   "cell_type": "markdown",
   "id": "6699e7eb-00e6-4d2e-b8c1-77bc2857a387",
   "metadata": {},
   "source": [
    "(a) As we increase $\\lambda$ from $0$, the training RSS will:\n",
    "\n",
    "i. Increase initially, and then eventually start decreasing in an inverted U shape. \n",
    "\n",
    "ii. Decrease initially, and then eventually start increasing in a U shape.\n",
    "\n",
    "iii. Steadily increase.\n",
    "\n",
    "iv. Steadily decrease.\n",
    "\n",
    "v. Remain constant."
   ]
  },
  {
   "cell_type": "markdown",
   "id": "55eb7e61-5a76-4cdb-a942-cb5df4b76f0b",
   "metadata": {},
   "source": [
    "When $\\lambda$ increases from 0, a penalty term is introduced to the model. This causes the model to select smaller coefficients and makes the model less flexible. So the model does not fit the training data as well. Therefore RSS steadily increases and the correct option is (iii)"
   ]
  },
  {
   "cell_type": "markdown",
   "id": "a735dadb-9817-49cd-8688-19504dfc00f8",
   "metadata": {},
   "source": [
    "(b) Repeat (a) for test RSS. \n",
    "\n",
    "When $\\lambda$ increases from 0, there is a reduction in variance and an increase in bias. The variance reduction is initially greater than bias, so test RSS decreases. But over time bias reduction is greater than variance reduction, the test RSS increases. So, (ii)."
   ]
  },
  {
   "cell_type": "markdown",
   "id": "fec206fe-0b75-490d-944e-41dd31320131",
   "metadata": {},
   "source": [
    "(c) Repeat (a) for variance.\n",
    "\n",
    "With the increase of $\\lambda$, the model becomes simpler. The model therefore has lower variance and so the answer is (iv),"
   ]
  },
  {
   "cell_type": "markdown",
   "id": "15f46d3d-fb86-40d3-810d-023c92408d10",
   "metadata": {},
   "source": [
    "(d) Repeat (a) for (squared) bias.\n",
    "\n",
    "The bias increases continuously since the model becomes simpler. (iii)"
   ]
  },
  {
   "cell_type": "markdown",
   "id": "7b9b29d3-fd6c-465b-a0d3-d1b19f8dd520",
   "metadata": {},
   "source": [
    "(e) Repeat (a) for the irreducible error.\n",
    "\n",
    "The irreducible error cannot be reduced by any model. It is not affected by the $\\lambda$ value. Therefore the answer is (v)."
   ]
  },
  {
   "cell_type": "markdown",
   "id": "c35b51a4-ce14-4f44-adfb-62c7e3ca73e5",
   "metadata": {},
   "source": [
    "## Question 2\n",
    "\n",
    "Provide a proof for the closed-form Lasso solution (formula (6.15) from the textbook)."
   ]
  },
  {
   "cell_type": "markdown",
   "id": "1759d2be-571b-41f7-b9db-ab276af5a8c5",
   "metadata": {},
   "source": [
    "The formula is as follows:\n",
    "\n",
    "If $y_j > \\lambda / 2$, then $\\beta^L_j = y_j - \\lambda/2$.\n",
    "\n",
    "If $y_j < -\\lambda / 2$, then $\\beta^L_j = y_j + \\lambda/2$.\n",
    "\n",
    "If $|y_j| \\leq \\lambda / 2$, then $\\beta^L_j = 0$."
   ]
  },
  {
   "cell_type": "markdown",
   "id": "cce534f7-d118-4275-be97-74ea9838f101",
   "metadata": {},
   "source": [
    "To get to the formula, we want to find coefficients $\\beta_1, ..., \\beta_p$ that minimize the formula $\\sum^p_{j=1} (y_j - \\beta_j)^2$. This means that we want to find coefficients to minimize $\\sum^p_{j=1} (y_j - \\beta_j)^2 + \\lambda \\sum^p_{j=1} |\\beta_j|$."
   ]
  },
  {
   "cell_type": "markdown",
   "id": "2b4d9c4a-fc47-43b4-b161-5b3aeb622dc0",
   "metadata": {},
   "source": [
    "To do so we can set this to 0 as well. Now we consider three different cases. \n",
    "\n"
   ]
  },
  {
   "cell_type": "markdown",
   "id": "ea75c89f-a522-42f0-865c-fba8e766782e",
   "metadata": {},
   "source": [
    "1. First, if $y_j > \\lambda / 2$, then we set $\\beta_j = y_j - \\lambda /2$. This is because the first term will be $\\sum^p_{j=1} \\lambda^2 / 4 = p\\lambda^2 / 4$, and the second term will be $\\lambda \\sum^p_{j=1} (y_j - \\lambda/2)$. Therefore the $\\lambda$ terms balance out. \n",
    "\n",
    "2. If $y_j < -\\lambda / 2$, then $\\beta_j = y_j + \\lambda /2$. The reasoning is the same except we add $\\lambda/2$ to balance the terms out, as the second term is now $\\lambda \\sum^p_{j=1} ( \\lambda/2 - y_j)$\n",
    "\n",
    "3. If $y_j$ is in between, then $\\beta_j = 0$. "
   ]
  },
  {
   "cell_type": "code",
   "execution_count": null,
   "id": "cd5099f3-68f1-49e1-ac05-0e013f5b1e27",
   "metadata": {},
   "outputs": [],
   "source": []
  }
 ],
 "metadata": {
  "kernelspec": {
   "display_name": "Python 3",
   "language": "python",
   "name": "python3"
  },
  "language_info": {
   "codemirror_mode": {
    "name": "ipython",
    "version": 3
   },
   "file_extension": ".py",
   "mimetype": "text/x-python",
   "name": "python",
   "nbconvert_exporter": "python",
   "pygments_lexer": "ipython3",
   "version": "3.8.8"
  }
 },
 "nbformat": 4,
 "nbformat_minor": 5
}
