{
 "cells": [
  {
   "cell_type": "markdown",
   "id": "73f46879-8793-46ed-b9d5-fa527ba92fa4",
   "metadata": {},
   "source": [
    "For each of parts (a) through (d), indicate whether we would generally expect the performance of a flexible statistical learning method to be better or worse than an inflexible method. Justify your answer.\n",
    "\n",
    "(a) The sample size n is extremely large, and the number of predictors p is small.\n",
    "Flexible statistical learning method will be expected to perform better. We have a larger sample size, which helps the model learn better. There are a small number of predictors which lessens the risk of overfitting. \n",
    "\n",
    "(b) The number of predictors p is extremely large, and the number of observations n is small.\n",
    "Inflexible statistical learning method will be expected to perform better. A smaller sample size means there may be a large risk of bias if we use a flexible statistical learning method. The large number of predictors may cause a flexible statistical method to overfit. An inflexible statistical learning method will help avoid these since it could reach a better model faster.\n",
    "\n",
    "(c) The relationship between the predictors and response is highly non-linear.\n",
    "A flexible statistical learning method will be better since it can adapt itself to the non-linear data better than the inflexible method. Inflexible methods will try to warp the observations to its own idea of the model,  for example a best fit linear model. \n",
    "\n",
    "\n",
    "(d) The variance of the error terms, i.e. σ2 = Var(\"), is extremely high.\n",
    "An inflexible statistical learning method will be better. A flexible method would try to incorporate the extra noise/ error terms into its model, and give an inaccurate model. "
   ]
  },
  {
   "cell_type": "markdown",
   "id": "08761ea0-0cf4-49c1-b366-aedd48a4d151",
   "metadata": {},
   "source": [
    "3. We now revisit the bias-variance decomposition.\n",
    "\n",
    "(a) Provide a sketch of typical (squared) bias, variance, training error, test error, and Bayes (or irreducible) error curves, on a single plot, as we go from less flexible statistical learning methods towards more flexible approaches. The x-axis should represent the amount of flexibility in the method, and the y-axis should represent the values for each curve. There should be five curves. Make sure to label each one.\n",
    "\n",
    "\n",
    "\n",
    "(b) Explain why each of the five curves has the shape displayed in part (a)."
   ]
  }
 ],
 "metadata": {
  "kernelspec": {
   "display_name": "Python 3",
   "language": "python",
   "name": "python3"
  },
  "language_info": {
   "codemirror_mode": {
    "name": "ipython",
    "version": 3
   },
   "file_extension": ".py",
   "mimetype": "text/x-python",
   "name": "python",
   "nbconvert_exporter": "python",
   "pygments_lexer": "ipython3",
   "version": "3.8.8"
  }
 },
 "nbformat": 4,
 "nbformat_minor": 5
}
