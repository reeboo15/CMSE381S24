{
 "cells": [
  {
   "cell_type": "markdown",
   "id": "3d2a310d",
   "metadata": {},
   "source": [
    "Proof: We derive the closed-form formula for $\\beta_1$, those for other $\\beta_j$s can be derived in exactly the same way. \n",
    "\n",
    "The objective function of Lasso for this simple case is\n",
    "$$\n",
    "obj \\equiv \\sum_{i=1}^p (y_i-\\beta_i)^2+\\lambda \\sum_{i=1}^p |\\beta_i| = (y_1-\\beta_1)^2 + \\lambda |\\beta_1| + C\n",
    "$$\n",
    "where $C$ contains terms in obj irrelevant to $\\beta_1$. Based on the fact that $|\\beta_1| = \\beta_1$ if $\\beta_1\\geq 0$, and $|\\beta_1| = -\\beta_1$ if $\\beta_1\\leq 0$. We can remove the absolute value on $\\beta_1$ and arrive at the expression\n",
    "$$\n",
    "obj = \\left\\{\\begin{aligned}& (y_1-\\beta_1)^2 + \\lambda \\beta_1 + C & \\textrm{if } \\beta_1\\geq 0  \\\\& (y_1-\\beta_1)^2 - \\lambda \\beta_1 + C & \\textrm{if } \\beta_1\\leq 0  \\end{aligned}\\right.\n",
    "$$\n",
    "Taking derivative with respect to $\\beta_1$, we get:\n",
    "$$\n",
    "\\frac{\\partial obj}{\\partial \\beta_1} = \\left\\{\\begin{aligned}& 2(\\beta_1-y_1) + \\lambda  & \\textrm{if } \\beta_1\\geq 0  \\\\& 2 (\\beta_1-y_1) - \\lambda  & \\textrm{if } \\beta_1\\leq 0  \\end{aligned}\\right.\n",
    "$$\n",
    "\n",
    "The obj has two pieces. For the piece on $\\beta\\geq 0$, local min occurs at $\\frac{\\partial obj}{\\partial \\beta_1} =0 \\Leftrightarrow$ $\\hat{\\beta}_1^{1} = y_1- \\frac{\\lambda}{2}$ if any. For the piece on $\\beta< 0$, local min occurs at  $\\hat{\\beta}_1^2 = y_1+ \\frac{\\lambda}{2}$ if any.\n",
    "\n",
    "Case I: $y_j \\geq \\frac{\\lambda}{2}$. In this case we can verify that $\\hat{\\beta}_1^{1}\\geq 0$, so it is a valid local minimizer on the interval $\\beta_1\\geq 0$. Since the objective function is quadratic, the local min is also the global min on the interval $\\beta_1\\geq 0$. However, on the interval $\\beta_1< 0$, the local min $\\hat{\\beta}_1^2$ we derived by setting the derivative equal to 0 turns out to positive, so $\\hat{\\beta}_1^2$ is not a valid local minimizer on the interval $\\beta_1<0$. Hence, on the interval $\\beta_1<0$, the function has no local min and the minimum must occur on the boundary point, $-\\infty,0$. Comparing the function values at the three candidate points $-\\infty, 0, \\hat{\\beta}_1^1$, we find the global min is at $\\hat{\\beta}_1^1 =y_1- \\frac{\\lambda}{2}$\n",
    "\n",
    "Case II: $y_j \\leq - \\frac{\\lambda}{2}$. In this case, $\\hat{\\beta}_1^1$ is an invalid local min but $\\hat{\\beta}_1^2$ is valid. So for the first piece, the function is minimized at one of the boundary points $0,\\infty$, for the second piece, the function is minimized at $\\hat{\\beta}_1^2$. Comparing the function values at the three candidate points $-\\infty, 0, \\hat{\\beta}_1^2$, we find the global min is at $\\hat{\\beta}_1^2 =y_1+ \\frac{\\lambda}{2}$.\n",
    "\n",
    "Case III: $-\\frac{\\lambda}{2} < y_j <  \\frac{\\lambda}{2}$. In this case, both $\\hat{\\beta}_1^1$ and $\\hat{\\beta}_1^2$ are invalid. So the function must be minimized at the boundary points $-\\infty,0,\\infty$ of the two intervals $\\beta_1<0, \\beta_1\\geq 0$. By comparing the corresponding function values, we find the minimal value occurs at 0.\n",
    "\n"
   ]
  },
  {
   "cell_type": "code",
   "execution_count": null,
   "id": "4b2de6d8",
   "metadata": {},
   "outputs": [],
   "source": []
  }
 ],
 "metadata": {
  "kernelspec": {
   "display_name": "Python 3",
   "language": "python",
   "name": "python3"
  },
  "language_info": {
   "codemirror_mode": {
    "name": "ipython",
    "version": 3
   },
   "file_extension": ".py",
   "mimetype": "text/x-python",
   "name": "python",
   "nbconvert_exporter": "python",
   "pygments_lexer": "ipython3",
   "version": "3.8.8"
  }
 },
 "nbformat": 4,
 "nbformat_minor": 5
}
