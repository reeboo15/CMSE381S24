{
 "cells": [
  {
   "cell_type": "markdown",
   "id": "4dfd68f5",
   "metadata": {},
   "source": [
    "# Subset Selection\n",
    "## CMSE 381 - Spring 2024\n",
    "\n",
    "\n"
   ]
  },
  {
   "cell_type": "code",
   "execution_count": 1,
   "id": "4ea3a4b4",
   "metadata": {},
   "outputs": [],
   "source": [
    "# Get the dataset ready\n",
    "import numpy as np\n",
    "import pandas as pd\n",
    "import matplotlib.pyplot as plt\n",
    "import seaborn as sns\n",
    "%matplotlib inline\n",
    "\n",
    "from sklearn.linear_model import LinearRegression,LogisticRegression\n",
    "from sklearn.metrics import mean_squared_error\n",
    "from sklearn.model_selection import cross_val_score\n",
    "from sklearn.model_selection import KFold"
   ]
  },
  {
   "cell_type": "code",
   "execution_count": 2,
   "id": "98db390a",
   "metadata": {},
   "outputs": [
    {
     "data": {
      "text/html": [
       "<div>\n",
       "<style scoped>\n",
       "    .dataframe tbody tr th:only-of-type {\n",
       "        vertical-align: middle;\n",
       "    }\n",
       "\n",
       "    .dataframe tbody tr th {\n",
       "        vertical-align: top;\n",
       "    }\n",
       "\n",
       "    .dataframe thead th {\n",
       "        text-align: right;\n",
       "    }\n",
       "</style>\n",
       "<table border=\"1\" class=\"dataframe\">\n",
       "  <thead>\n",
       "    <tr style=\"text-align: right;\">\n",
       "      <th></th>\n",
       "      <th>mpg</th>\n",
       "      <th>cylinders</th>\n",
       "      <th>displacement</th>\n",
       "      <th>horsepower</th>\n",
       "      <th>weight</th>\n",
       "      <th>acceleration</th>\n",
       "      <th>year</th>\n",
       "      <th>origin</th>\n",
       "      <th>name</th>\n",
       "    </tr>\n",
       "  </thead>\n",
       "  <tbody>\n",
       "    <tr>\n",
       "      <th>0</th>\n",
       "      <td>19.0</td>\n",
       "      <td>4</td>\n",
       "      <td>120.0</td>\n",
       "      <td>88</td>\n",
       "      <td>3270</td>\n",
       "      <td>21.9</td>\n",
       "      <td>76</td>\n",
       "      <td>2</td>\n",
       "      <td>peugeot 504</td>\n",
       "    </tr>\n",
       "    <tr>\n",
       "      <th>1</th>\n",
       "      <td>38.0</td>\n",
       "      <td>4</td>\n",
       "      <td>105.0</td>\n",
       "      <td>63</td>\n",
       "      <td>2125</td>\n",
       "      <td>14.7</td>\n",
       "      <td>82</td>\n",
       "      <td>1</td>\n",
       "      <td>plymouth horizon miser</td>\n",
       "    </tr>\n",
       "    <tr>\n",
       "      <th>2</th>\n",
       "      <td>30.5</td>\n",
       "      <td>4</td>\n",
       "      <td>97.0</td>\n",
       "      <td>78</td>\n",
       "      <td>2190</td>\n",
       "      <td>14.1</td>\n",
       "      <td>77</td>\n",
       "      <td>2</td>\n",
       "      <td>volkswagen dasher</td>\n",
       "    </tr>\n",
       "    <tr>\n",
       "      <th>3</th>\n",
       "      <td>14.0</td>\n",
       "      <td>8</td>\n",
       "      <td>400.0</td>\n",
       "      <td>175</td>\n",
       "      <td>4385</td>\n",
       "      <td>12.0</td>\n",
       "      <td>72</td>\n",
       "      <td>1</td>\n",
       "      <td>pontiac catalina</td>\n",
       "    </tr>\n",
       "    <tr>\n",
       "      <th>4</th>\n",
       "      <td>16.0</td>\n",
       "      <td>6</td>\n",
       "      <td>225.0</td>\n",
       "      <td>105</td>\n",
       "      <td>3439</td>\n",
       "      <td>15.5</td>\n",
       "      <td>71</td>\n",
       "      <td>1</td>\n",
       "      <td>plymouth satellite custom</td>\n",
       "    </tr>\n",
       "  </tbody>\n",
       "</table>\n",
       "</div>"
      ],
      "text/plain": [
       "    mpg  cylinders  displacement  horsepower  weight  acceleration  year  \\\n",
       "0  19.0          4         120.0          88    3270          21.9    76   \n",
       "1  38.0          4         105.0          63    2125          14.7    82   \n",
       "2  30.5          4          97.0          78    2190          14.1    77   \n",
       "3  14.0          8         400.0         175    4385          12.0    72   \n",
       "4  16.0          6         225.0         105    3439          15.5    71   \n",
       "\n",
       "   origin                       name  \n",
       "0       2                peugeot 504  \n",
       "1       1     plymouth horizon miser  \n",
       "2       2          volkswagen dasher  \n",
       "3       1           pontiac catalina  \n",
       "4       1  plymouth satellite custom  "
      ]
     },
     "execution_count": 2,
     "metadata": {},
     "output_type": "execute_result"
    }
   ],
   "source": [
    "# First, we're going to do all the data loading we've had for a while for this data set\n",
    "auto = pd.read_csv('../../DataSets/Auto.csv')\n",
    "auto = auto.replace('?', np.nan)\n",
    "auto = auto.dropna()\n",
    "auto.horsepower = auto.horsepower.astype('int')\n",
    "\n",
    "#this shuffles my data set in advance so that i don't need to worry about it later \n",
    "auto = auto.sample(frac=1).reset_index(drop=True)\n",
    "\n",
    "\n",
    "auto.head()\n"
   ]
  },
  {
   "cell_type": "markdown",
   "id": "32b8a2d2",
   "metadata": {},
   "source": [
    "Let's try to run subset selection on the `auto` data set! We're going to use `cylinders`, `horsepower`, `weight`, and `acceleration` to predict `mpg`. "
   ]
  },
  {
   "cell_type": "code",
   "execution_count": 3,
   "id": "158938b5",
   "metadata": {},
   "outputs": [],
   "source": [
    "inputvars = ['cylinders','horsepower','weight', 'acceleration']"
   ]
  },
  {
   "cell_type": "code",
   "execution_count": 4,
   "id": "d502051a",
   "metadata": {},
   "outputs": [],
   "source": [
    "from itertools import combinations"
   ]
  },
  {
   "cell_type": "markdown",
   "id": "ee6d2e20",
   "metadata": {},
   "source": [
    "Here's some code stolen from the last few days to run linear regression on a subset of the input variables. "
   ]
  },
  {
   "cell_type": "code",
   "execution_count": 5,
   "id": "4ea13b1d",
   "metadata": {},
   "outputs": [
    {
     "data": {
      "text/plain": [
       "23.942446650601354"
      ]
     },
     "execution_count": 5,
     "metadata": {},
     "output_type": "execute_result"
    }
   ],
   "source": [
    "def myscore_train(df,listofvars, outputvar = 'mpg'):\n",
    "    X = df[list(listofvars)]\n",
    "    y = df[outputvar]\n",
    "    \n",
    "    #build linear regression model\n",
    "    model = LinearRegression()\n",
    "    model.fit(X,y)\n",
    "    \n",
    "    testscore = mean_squared_error(y, model.predict(X))\n",
    "    \n",
    "    #view mean absolute error\n",
    "    return testscore\n",
    "    \n",
    "myvars = ('cylinders', 'acceleration')\n",
    "myscore_train(auto,myvars)"
   ]
  },
  {
   "cell_type": "code",
   "execution_count": 6,
   "id": "ad735fd8",
   "metadata": {},
   "outputs": [
    {
     "data": {
      "text/plain": [
       "24.197080654251987"
      ]
     },
     "execution_count": 6,
     "metadata": {},
     "output_type": "execute_result"
    }
   ],
   "source": [
    "def myscore_cv(df,listofvars, outputvar = 'mpg'):\n",
    "    X = df[list(listofvars)]\n",
    "    y = df[outputvar]\n",
    "    \n",
    "    #build linear regression model\n",
    "    model = LinearRegression()\n",
    "    \n",
    "\n",
    "    #use 5-fold CV to evaluate model\n",
    "    scores = cross_val_score(model, X,y, \n",
    "                             scoring='neg_mean_squared_error',\n",
    "                             cv=5)\n",
    "\n",
    "    #view mean absolute error\n",
    "    return np.average(np.absolute(scores))\n",
    "    \n",
    "\n",
    "myvars = ('cylinders', 'acceleration')\n",
    "myscore_cv(auto,myvars)"
   ]
  },
  {
   "cell_type": "markdown",
   "id": "90e0202d",
   "metadata": {},
   "source": [
    "## Homework problem\n",
    "\n",
    "\n",
    "&#9989; **<font color=red>Please answer this problem in homework :</font>** write a function that does forward selection and another function that does backward selection. \n",
    "\n"
   ]
  },
  {
   "cell_type": "code",
   "execution_count": 7,
   "id": "8fbb4b1e",
   "metadata": {},
   "outputs": [],
   "source": [
    "# Your code here #\n",
    "def forward(predictors):\n",
    "\n",
    "    # Pull out predictors we still need to process\n",
    "    remaining_predictors = [p for p in inputvars if p not in predictors]\n",
    "    \n",
    "    results = []\n",
    "    \n",
    "    for p in remaining_predictors:\n",
    "        results.append(processSubset(predictors+[p]))\n",
    "    \n",
    "    # Wrap everything up in a nice dataframe\n",
    "    models = pd.DataFrame(results)\n",
    "    \n",
    "    # Choose the model with the highest RSS\n",
    "    best_model = models.loc[models['RSS'].argmin()]\n",
    "    \n",
    "\n",
    "    print(\"Processed \", models.shape[0], \"models on\", len(predictors)+1, \"predictors\")\n",
    "    \n",
    "    # Return the best model, along with some other useful information about the model\n",
    "    return best_model\n",
    "\n",
    "\n",
    "y = auto['mpg'].values\n",
    "def processSubset(feature_set):\n",
    "    # Fit model on feature_set and calculate RSS\n",
    "    model = LinearRegression()\n",
    "    model.fit(auto[list(feature_set)],y)\n",
    "    \n",
    "    RSS = mean_squared_error(y, model.predict(auto[list(feature_set)]))\n",
    "    return {\"model\":feature_set, \"RSS\":RSS}\n"
   ]
  },
  {
   "cell_type": "code",
   "execution_count": 8,
   "id": "1b79b952",
   "metadata": {},
   "outputs": [
    {
     "name": "stdout",
     "output_type": "stream",
     "text": [
      "Processed  4 models on 1 predictors\n",
      "Processed  3 models on 2 predictors\n",
      "Processed  2 models on 3 predictors\n",
      "Processed  1 models on 4 predictors\n"
     ]
    },
    {
     "data": {
      "text/html": [
       "<div>\n",
       "<style scoped>\n",
       "    .dataframe tbody tr th:only-of-type {\n",
       "        vertical-align: middle;\n",
       "    }\n",
       "\n",
       "    .dataframe tbody tr th {\n",
       "        vertical-align: top;\n",
       "    }\n",
       "\n",
       "    .dataframe thead th {\n",
       "        text-align: right;\n",
       "    }\n",
       "</style>\n",
       "<table border=\"1\" class=\"dataframe\">\n",
       "  <thead>\n",
       "    <tr style=\"text-align: right;\">\n",
       "      <th></th>\n",
       "      <th>RSS</th>\n",
       "      <th>model</th>\n",
       "    </tr>\n",
       "  </thead>\n",
       "  <tbody>\n",
       "    <tr>\n",
       "      <th>1</th>\n",
       "      <td>18.676617</td>\n",
       "      <td>[weight]</td>\n",
       "    </tr>\n",
       "    <tr>\n",
       "      <th>2</th>\n",
       "      <td>17.841442</td>\n",
       "      <td>[weight, horsepower]</td>\n",
       "    </tr>\n",
       "    <tr>\n",
       "      <th>3</th>\n",
       "      <td>17.763871</td>\n",
       "      <td>[weight, horsepower, cylinders]</td>\n",
       "    </tr>\n",
       "    <tr>\n",
       "      <th>4</th>\n",
       "      <td>17.7614</td>\n",
       "      <td>[weight, horsepower, cylinders, acceleration]</td>\n",
       "    </tr>\n",
       "  </tbody>\n",
       "</table>\n",
       "</div>"
      ],
      "text/plain": [
       "         RSS                                          model\n",
       "1  18.676617                                       [weight]\n",
       "2  17.841442                           [weight, horsepower]\n",
       "3  17.763871                [weight, horsepower, cylinders]\n",
       "4    17.7614  [weight, horsepower, cylinders, acceleration]"
      ]
     },
     "execution_count": 8,
     "metadata": {},
     "output_type": "execute_result"
    }
   ],
   "source": [
    "models_fwd = pd.DataFrame(columns=[\"RSS\", \"model\"])\n",
    "\n",
    "\n",
    "# We start with no variables at all in our model\n",
    "predictors = []\n",
    "\n",
    "for i in range(1,len(inputvars)+1): \n",
    "    \n",
    "    # Now we run our forward one step function from above to get \n",
    "    # the best model.     \n",
    "    models_fwd.loc[i] = forward(predictors)\n",
    "    \n",
    "    # Then we extract the names of the variables that were used \n",
    "    # in that found model. When the for loop repeats, this will \n",
    "    # get sent back to predictors to the next step.\n",
    "    predictors = models_fwd.loc[i,'model']\n",
    "    \n",
    "    # If you want to get something printed out to see which \n",
    "    # variables are used at each step, uncomment this line:\n",
    "#     print('Starting with predictors:\\n', predictors)\n",
    "\n",
    "\n",
    "models_fwd"
   ]
  },
  {
   "cell_type": "code",
   "execution_count": 9,
   "id": "5860b072",
   "metadata": {},
   "outputs": [
    {
     "data": {
      "text/html": [
       "<div>\n",
       "<style scoped>\n",
       "    .dataframe tbody tr th:only-of-type {\n",
       "        vertical-align: middle;\n",
       "    }\n",
       "\n",
       "    .dataframe tbody tr th {\n",
       "        vertical-align: top;\n",
       "    }\n",
       "\n",
       "    .dataframe thead th {\n",
       "        text-align: right;\n",
       "    }\n",
       "</style>\n",
       "<table border=\"1\" class=\"dataframe\">\n",
       "  <thead>\n",
       "    <tr style=\"text-align: right;\">\n",
       "      <th></th>\n",
       "      <th>Vars</th>\n",
       "      <th>TestScore</th>\n",
       "    </tr>\n",
       "  </thead>\n",
       "  <tbody>\n",
       "    <tr>\n",
       "      <th>0</th>\n",
       "      <td>[weight]</td>\n",
       "      <td>18.906393</td>\n",
       "    </tr>\n",
       "    <tr>\n",
       "      <th>1</th>\n",
       "      <td>[weight, horsepower]</td>\n",
       "      <td>18.178709</td>\n",
       "    </tr>\n",
       "    <tr>\n",
       "      <th>2</th>\n",
       "      <td>[weight, horsepower, cylinders]</td>\n",
       "      <td>18.143382</td>\n",
       "    </tr>\n",
       "    <tr>\n",
       "      <th>3</th>\n",
       "      <td>[weight, horsepower, cylinders, acceleration]</td>\n",
       "      <td>18.181214</td>\n",
       "    </tr>\n",
       "  </tbody>\n",
       "</table>\n",
       "</div>"
      ],
      "text/plain": [
       "                                            Vars  TestScore\n",
       "0                                       [weight]  18.906393\n",
       "1                           [weight, horsepower]  18.178709\n",
       "2                [weight, horsepower, cylinders]  18.143382\n",
       "3  [weight, horsepower, cylinders, acceleration]  18.181214"
      ]
     },
     "execution_count": 9,
     "metadata": {},
     "output_type": "execute_result"
    }
   ],
   "source": [
    "# pick the best model using the cv score\n",
    "myscores = []\n",
    "myvars = []\n",
    "for i in range(1,len(models_fwd)+1):\n",
    "        myscores.append(myscore_cv(auto,models_fwd.loc[i, \"model\"]))\n",
    "        myvars.append(models_fwd.loc[i, \"model\"])\n",
    "myResults = pd.DataFrame({'Vars':myvars, 'TestScore':myscores})\n",
    "myResults"
   ]
  },
  {
   "cell_type": "code",
   "execution_count": 10,
   "id": "dec27f3c",
   "metadata": {},
   "outputs": [
    {
     "name": "stdout",
     "output_type": "stream",
     "text": [
      "Best Model: 2    [weight, horsepower, cylinders]\n",
      "Name: Vars, dtype: object\n"
     ]
    }
   ],
   "source": [
    "indexmin = myResults.idxmin(numeric_only = True)\n",
    "print('Best Model:', myResults.Vars[indexmin])"
   ]
  },
  {
   "cell_type": "code",
   "execution_count": 11,
   "id": "f049cc56",
   "metadata": {},
   "outputs": [],
   "source": [
    "#Backward selection\n",
    "import itertools\n",
    "def backward(predictors):\n",
    "    \n",
    "    \n",
    "    results = []\n",
    "    \n",
    "    \n",
    "    # Note that the students might not do it this way. They might go through the list of predictors one\n",
    "    # at a time and remove from the set.  Either way should work.\n",
    "    for combo in itertools.combinations(predictors, len(predictors)-1):\n",
    "        results.append(processSubset(combo))\n",
    "    \n",
    "    # Wrap everything up in a nice dataframe\n",
    "    models = pd.DataFrame(results)\n",
    "    \n",
    "    # Choose the model with the highest RSS\n",
    "    best_model = models.loc[models['RSS'].argmin()]\n",
    "    \n",
    "    print(\"Processed \", models.shape[0], \"models on\", len(predictors)-1, \"predictors\" )\n",
    "    \n",
    "    # Return the best model, along with some other useful information about the model\n",
    "    return best_model"
   ]
  },
  {
   "cell_type": "code",
   "execution_count": 12,
   "id": "51bc0543",
   "metadata": {},
   "outputs": [
    {
     "name": "stdout",
     "output_type": "stream",
     "text": [
      "Processed  4 models on 3 predictors\n",
      "Processed  3 models on 2 predictors\n",
      "Processed  2 models on 1 predictors\n"
     ]
    },
    {
     "data": {
      "text/html": [
       "<div>\n",
       "<style scoped>\n",
       "    .dataframe tbody tr th:only-of-type {\n",
       "        vertical-align: middle;\n",
       "    }\n",
       "\n",
       "    .dataframe tbody tr th {\n",
       "        vertical-align: top;\n",
       "    }\n",
       "\n",
       "    .dataframe thead th {\n",
       "        text-align: right;\n",
       "    }\n",
       "</style>\n",
       "<table border=\"1\" class=\"dataframe\">\n",
       "  <thead>\n",
       "    <tr style=\"text-align: right;\">\n",
       "      <th></th>\n",
       "      <th>RSS</th>\n",
       "      <th>model</th>\n",
       "    </tr>\n",
       "  </thead>\n",
       "  <tbody>\n",
       "    <tr>\n",
       "      <th>1</th>\n",
       "      <td>18.676617</td>\n",
       "      <td>(weight,)</td>\n",
       "    </tr>\n",
       "    <tr>\n",
       "      <th>2</th>\n",
       "      <td>17.841442</td>\n",
       "      <td>(horsepower, weight)</td>\n",
       "    </tr>\n",
       "    <tr>\n",
       "      <th>3</th>\n",
       "      <td>17.763871</td>\n",
       "      <td>(cylinders, horsepower, weight)</td>\n",
       "    </tr>\n",
       "  </tbody>\n",
       "</table>\n",
       "</div>"
      ],
      "text/plain": [
       "         RSS                            model\n",
       "1  18.676617                        (weight,)\n",
       "2  17.841442             (horsepower, weight)\n",
       "3  17.763871  (cylinders, horsepower, weight)"
      ]
     },
     "execution_count": 12,
     "metadata": {},
     "output_type": "execute_result"
    }
   ],
   "source": [
    "models_bwd = pd.DataFrame(columns=[\"RSS\", \"model\"], index = range(1,len(inputvars)))\n",
    "\n",
    "predictors = inputvars\n",
    "\n",
    "while(len(predictors) > 1):  \n",
    "    models_bwd.loc[len(predictors)-1] = backward(predictors)\n",
    "    predictors = models_bwd.loc[len(predictors)-1][\"model\"]\n",
    "\n",
    "models_bwd"
   ]
  },
  {
   "cell_type": "code",
   "execution_count": 13,
   "id": "f07795cd",
   "metadata": {},
   "outputs": [
    {
     "name": "stdout",
     "output_type": "stream",
     "text": [
      "Best Model: 2    (cylinders, horsepower, weight)\n",
      "Name: Vars, dtype: object\n"
     ]
    }
   ],
   "source": [
    "# pick the best model using the cv score\n",
    "myscores = []\n",
    "myvars = []\n",
    "for i in range(1,len(models_bwd)+1):\n",
    "        myscores.append(myscore_cv(auto,models_bwd.loc[i, \"model\"]))\n",
    "        myvars.append(models_bwd.loc[i, \"model\"])\n",
    "myResults = pd.DataFrame({'Vars':myvars, 'TestScore':myscores})\n",
    "indexmin = myResults.idxmin(numeric_only = True)\n",
    "print('Best Model:', myResults.Vars[indexmin])"
   ]
  },
  {
   "cell_type": "code",
   "execution_count": null,
   "id": "08642140",
   "metadata": {},
   "outputs": [],
   "source": [
    "def compute_RSS(left_set,right_set)"
   ]
  },
  {
   "cell_type": "code",
   "execution_count": null,
   "id": "9de83104",
   "metadata": {},
   "outputs": [],
   "source": []
  }
 ],
 "metadata": {
  "kernelspec": {
   "display_name": "Python 3",
   "language": "python",
   "name": "python3"
  },
  "language_info": {
   "codemirror_mode": {
    "name": "ipython",
    "version": 3
   },
   "file_extension": ".py",
   "mimetype": "text/x-python",
   "name": "python",
   "nbconvert_exporter": "python",
   "pygments_lexer": "ipython3",
   "version": "3.8.8"
  },
  "vscode": {
   "interpreter": {
    "hash": "3e3338d56a43a0108f5ff8ffc1915439f9812d920a0d5bf5d66e4a60c981234a"
   }
  }
 },
 "nbformat": 4,
 "nbformat_minor": 5
}
