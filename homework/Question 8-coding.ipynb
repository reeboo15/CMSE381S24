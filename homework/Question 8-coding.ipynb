{
 "cells": [
  {
   "cell_type": "code",
   "execution_count": 1,
   "id": "08642140",
   "metadata": {},
   "outputs": [
    {
     "data": {
      "text/plain": [
       "7.320266666666668"
      ]
     },
     "execution_count": 1,
     "metadata": {},
     "output_type": "execute_result"
    }
   ],
   "source": [
    "import numpy as np\n",
    "y= np.array([9.5,11.22,10.06,7.4])\n",
    "x1 =np.array([73,48,35,100])\n",
    "x2 =np.array([120,83,80,97])\n",
    "def compute_RSS(left_set,right_set):\n",
    "    hat_y1 = y[left_set].mean()\n",
    "    hat_y2 = y[right_set].mean()\n",
    "    RSS = ((y[left_set]-hat_y1)**2).sum()+((y[right_set]-hat_y2)**2).sum()\n",
    "    return RSS\n",
    "compute_RSS([2],[0,1,3])"
   ]
  },
  {
   "cell_type": "code",
   "execution_count": 2,
   "id": "9de83104",
   "metadata": {},
   "outputs": [
    {
     "data": {
      "text/plain": [
       "2.8777999999999992"
      ]
     },
     "execution_count": 2,
     "metadata": {},
     "output_type": "execute_result"
    }
   ],
   "source": [
    "compute_RSS([1,2],[0,3])"
   ]
  },
  {
   "cell_type": "code",
   "execution_count": 3,
   "id": "57020fb0",
   "metadata": {},
   "outputs": [
    {
     "data": {
      "text/plain": [
       "1.5392000000000012"
      ]
     },
     "execution_count": 3,
     "metadata": {},
     "output_type": "execute_result"
    }
   ],
   "source": [
    "compute_RSS([0,1,2],[3])"
   ]
  },
  {
   "cell_type": "code",
   "execution_count": 4,
   "id": "7d9df53b",
   "metadata": {},
   "outputs": [
    {
     "data": {
      "text/plain": [
       "7.671200000000001"
      ]
     },
     "execution_count": 4,
     "metadata": {},
     "output_type": "execute_result"
    }
   ],
   "source": [
    "compute_RSS([3,1,2],[0])"
   ]
  },
  {
   "cell_type": "code",
   "execution_count": 5,
   "id": "dd504aff",
   "metadata": {},
   "outputs": [],
   "source": [
    "def compute_RSS(set1,set2,set3):\n",
    "    hat_y1 = y[set1].mean()\n",
    "    hat_y2 = y[set2].mean()\n",
    "    hat_y3 = y[set3].mean()\n",
    "    RSS = ((y[set1]-hat_y1)**2).sum()+((y[set2]-hat_y2)**2).sum()+((y[set3]-hat_y3)**2).sum()\n",
    "    return RSS"
   ]
  },
  {
   "cell_type": "code",
   "execution_count": 6,
   "id": "5a4d4d36",
   "metadata": {},
   "outputs": [
    {
     "data": {
      "text/plain": [
       "1.479200000000001"
      ]
     },
     "execution_count": 6,
     "metadata": {},
     "output_type": "execute_result"
    }
   ],
   "source": [
    "compute_RSS([2],[0,1],[3])"
   ]
  },
  {
   "cell_type": "code",
   "execution_count": 7,
   "id": "701014d4",
   "metadata": {},
   "outputs": [
    {
     "data": {
      "text/plain": [
       "0.6728000000000002"
      ]
     },
     "execution_count": 7,
     "metadata": {},
     "output_type": "execute_result"
    }
   ],
   "source": [
    "compute_RSS([1,2],[0],[3])"
   ]
  },
  {
   "cell_type": "code",
   "execution_count": null,
   "id": "50cf16bc",
   "metadata": {},
   "outputs": [],
   "source": [
    "from itertools import combinations\n",
    "def myscore_cv(df,X,y):\n",
    "    model = LinearRegression()\n",
    "    \n",
    "    scores = cross_val_score(model, X,y, \n",
    "                             scoring='neg_mean_squared_error',\n",
    "                             cv=5)\n",
    "    return np.average(np.absolute(scores))\n",
    "\n",
    "Ms = [] \n",
    "\n",
    "for k in range(1,p):\n",
    "    myvars = []\n",
    "    myscores = []\n",
    "    \n",
    "    for Xs in combinations(inputvars,k):\n",
    "        myvars.append(Xs)\n",
    "        myscores.append(myscore_cv(auto,Xs,y))\n",
    "        \n",
    "    myResults = pd.DataFrame({'Vars':myvars, 'Score':myscores})\n",
    "    \n",
    "    \n",
    "    indexmin = myResults.idxmin(numeric_only = True)\n",
    "    Ms.append(myResults.Vars[indexmin].iloc[0])\n",
    "    \n"
   ]
  }
 ],
 "metadata": {
  "kernelspec": {
   "display_name": "Python 3",
   "language": "python",
   "name": "python3"
  },
  "language_info": {
   "codemirror_mode": {
    "name": "ipython",
    "version": 3
   },
   "file_extension": ".py",
   "mimetype": "text/x-python",
   "name": "python",
   "nbconvert_exporter": "python",
   "pygments_lexer": "ipython3",
   "version": "3.8.8"
  }
 },
 "nbformat": 4,
 "nbformat_minor": 5
}
